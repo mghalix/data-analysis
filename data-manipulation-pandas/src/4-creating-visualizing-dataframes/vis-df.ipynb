{
 "cells": [
  {
   "cell_type": "markdown",
   "metadata": {},
   "source": [
    "# Creating and Visualizing DataFrames\n",
    "\n",
    "Outline\n",
    "- [1 Visualizing your data](#vis-data)\n",
    "- [&nbsp;&nbsp; 1.1 Which avocado size is most popular?](#avo-pop)\n",
    "- [&nbsp;&nbsp; 1.2 Changes in sales overtime](#chg-sales)\n",
    "- [&nbsp;&nbsp; 1.3 Avocado supply and demand](#avo-sup-dem)\n",
    "- [&nbsp;&nbsp; 1.4 Price of conventional vs. organic avocados](#price-conv-vs-org-avo)\n",
    "- [2 Missing values](#mis-vals)\n",
    "- [&nbsp;&nbsp; 2.1 Finding missing values](#f-mis-vals)\n",
    "- [&nbsp;&nbsp; 2.2 Removing missing values](#rm-mis-vals)\n",
    "- [&nbsp;&nbsp; 2.3 Replacing missing values](#rp-mis-vals)\n",
    "- [3 Creating DataFrames](#crt-df)\n",
    "- [&nbsp;&nbsp; 3.1 List of dictionaries](#ls-dic)\n",
    "- [&nbsp;&nbsp; 3.2 Dictionary of lists](#dic-ls)\n",
    "- [4 Reading and writing DataFrames](#rw-df)\n",
    "- [&nbsp;&nbsp; 4.1 CSV to DataFrame](#csv-df)\n",
    "- [&nbsp;&nbsp; 4.2 DataFrame to CSV](#df-csv)"
   ]
  },
  {
   "cell_type": "markdown",
   "metadata": {},
   "source": [
    "<a id=\"vis-data\"></a>\n",
    "# 1 Visualizing your data\n",
    "<!-- %%HTML -->\n",
    "<div align=\"middle\">\n",
    "<video width=\"60%\" controls>\n",
    "      <source src=\"./../../res/videos/4.creating-visualizing-dataframes/1.visualizing_your_data.mp4\" type=\"video/mp4\">\n",
    "</video></div>\n",
    "\n",
    "<a id=\"avo-pop\"></a>\n",
    "## 1.1 Which avocado size is most popular?\n",
    "Avocados are increasingly popular and delicious in guacamole and on toast. The Hass Avocado Board keeps track of avocado supply and demand across the USA, including the sales of three different sizes of avocado. In this exercise, you'll use a bar plot to figure out which size is the most popular.\n",
    "\n",
    "Bar plots are great for revealing relationships between categorical (size) and numeric (number sold) variables, but you'll often have to manipulate your data first in order to get the numbers you need for plotting."
   ]
  },
  {
   "cell_type": "code",
   "execution_count": 4,
   "metadata": {},
   "outputs": [],
   "source": [
    "import pandas as pd\n",
    "import matplotlib.pyplot as plt\n",
    "avocados = pd.read_pickle(\"./../../data/avoplotto.pkl\")"
   ]
  },
  {
   "cell_type": "markdown",
   "metadata": {},
   "source": [
    "Print the head of the avocados dataset. What columns are available?"
   ]
  },
  {
   "cell_type": "code",
   "execution_count": 5,
   "metadata": {},
   "outputs": [
    {
     "data": {
      "text/html": [
       "<div>\n",
       "<style scoped>\n",
       "    .dataframe tbody tr th:only-of-type {\n",
       "        vertical-align: middle;\n",
       "    }\n",
       "\n",
       "    .dataframe tbody tr th {\n",
       "        vertical-align: top;\n",
       "    }\n",
       "\n",
       "    .dataframe thead th {\n",
       "        text-align: right;\n",
       "    }\n",
       "</style>\n",
       "<table border=\"1\" class=\"dataframe\">\n",
       "  <thead>\n",
       "    <tr style=\"text-align: right;\">\n",
       "      <th></th>\n",
       "      <th>date</th>\n",
       "      <th>type</th>\n",
       "      <th>year</th>\n",
       "      <th>avg_price</th>\n",
       "      <th>size</th>\n",
       "      <th>nb_sold</th>\n",
       "    </tr>\n",
       "  </thead>\n",
       "  <tbody>\n",
       "    <tr>\n",
       "      <th>0</th>\n",
       "      <td>2015-12-27</td>\n",
       "      <td>conventional</td>\n",
       "      <td>2015</td>\n",
       "      <td>0.95</td>\n",
       "      <td>small</td>\n",
       "      <td>9626901.09</td>\n",
       "    </tr>\n",
       "    <tr>\n",
       "      <th>1</th>\n",
       "      <td>2015-12-20</td>\n",
       "      <td>conventional</td>\n",
       "      <td>2015</td>\n",
       "      <td>0.98</td>\n",
       "      <td>small</td>\n",
       "      <td>8710021.76</td>\n",
       "    </tr>\n",
       "    <tr>\n",
       "      <th>2</th>\n",
       "      <td>2015-12-13</td>\n",
       "      <td>conventional</td>\n",
       "      <td>2015</td>\n",
       "      <td>0.93</td>\n",
       "      <td>small</td>\n",
       "      <td>9855053.66</td>\n",
       "    </tr>\n",
       "    <tr>\n",
       "      <th>3</th>\n",
       "      <td>2015-12-06</td>\n",
       "      <td>conventional</td>\n",
       "      <td>2015</td>\n",
       "      <td>0.89</td>\n",
       "      <td>small</td>\n",
       "      <td>9405464.36</td>\n",
       "    </tr>\n",
       "    <tr>\n",
       "      <th>4</th>\n",
       "      <td>2015-11-29</td>\n",
       "      <td>conventional</td>\n",
       "      <td>2015</td>\n",
       "      <td>0.99</td>\n",
       "      <td>small</td>\n",
       "      <td>8094803.56</td>\n",
       "    </tr>\n",
       "  </tbody>\n",
       "</table>\n",
       "</div>"
      ],
      "text/plain": [
       "         date          type  year  avg_price   size     nb_sold\n",
       "0  2015-12-27  conventional  2015       0.95  small  9626901.09\n",
       "1  2015-12-20  conventional  2015       0.98  small  8710021.76\n",
       "2  2015-12-13  conventional  2015       0.93  small  9855053.66\n",
       "3  2015-12-06  conventional  2015       0.89  small  9405464.36\n",
       "4  2015-11-29  conventional  2015       0.99  small  8094803.56"
      ]
     },
     "execution_count": 5,
     "metadata": {},
     "output_type": "execute_result"
    }
   ],
   "source": [
    "avocados.head()"
   ]
  },
  {
   "cell_type": "markdown",
   "metadata": {},
   "source": [
    "For each avocado size group, calculate the total number sold, storing as nb_sold_by_size."
   ]
  },
  {
   "cell_type": "code",
   "execution_count": 12,
   "metadata": {},
   "outputs": [
    {
     "data": {
      "text/plain": [
       "size\n",
       "extra_large    1.561752e+08\n",
       "large          2.015012e+09\n",
       "small          2.054936e+09\n",
       "Name: nb_sold, dtype: float64"
      ]
     },
     "execution_count": 12,
     "metadata": {},
     "output_type": "execute_result"
    }
   ],
   "source": [
    "nb_sold_by_size = avocados.groupby(\"size\")[\"nb_sold\"].sum()\n",
    "nb_sold_by_size"
   ]
  },
  {
   "cell_type": "markdown",
   "metadata": {},
   "source": [
    "Create a bar plot of the number of avocados sold by size."
   ]
  },
  {
   "cell_type": "code",
   "execution_count": 16,
   "metadata": {},
   "outputs": [
    {
     "data": {
      "text/plain": [
       "<Axes: xlabel='size'>"
      ]
     },
     "execution_count": 16,
     "metadata": {},
     "output_type": "execute_result"
    },
    {
     "data": {
      "image/png": "[encoded data removed]",
      "text/plain": [
       "<Figure size 640x480 with 1 Axes>"
      ]
     },
     "metadata": {},
     "output_type": "display_data"
    }
   ],
   "source": [
    "nb_sold_by_size.plot(kind=\"bar\", rot=45)"
   ]
  },
  {
   "cell_type": "markdown",
   "metadata": {},
   "source": [
    "Show the plot."
   ]
  },
  {
   "cell_type": "code",
   "execution_count": 18,
   "metadata": {},
   "outputs": [],
   "source": [
    "plt.show()"
   ]
  },
  {
   "cell_type": "markdown",
   "metadata": {},
   "source": [
    "<a id=\"chg-sales\"></a>\n",
    "## 1.2 Changes in sales overtime\n",
    "Line plots are designed to visualize the relationship between two numeric variables, where each data values is connected to the next one. They are especially useful for visualizing the change in a number over time since each time point is naturally connected to the next time point. In this exercise, you'll visualize the change in avocado sales over three years."
   ]
  },
  {
   "cell_type": "markdown",
   "metadata": {},
   "source": [
    "Get the total number of avocados sold on each date. The DataFrame has two rows for each date—one for organic, and one for conventional. Save this as nb_sold_by_date."
   ]
  },
  {
   "cell_type": "code",
   "execution_count": 23,
   "metadata": {},
   "outputs": [
    {
     "data": {
      "text/plain": [
       "date\n",
       "2015-01-04    27279606.03\n",
       "2015-01-11    25081927.33\n",
       "2015-01-18    24961540.48\n",
       "2015-01-25    24094678.66\n",
       "2015-02-01    39838734.08\n",
       "                 ...     \n",
       "2018-02-25    25434002.74\n",
       "2018-03-04    26834303.05\n",
       "2018-03-11    26094044.41\n",
       "2018-03-18    26030618.97\n",
       "2018-03-25    27480242.92\n",
       "Name: nb_sold, Length: 169, dtype: float64"
      ]
     },
     "execution_count": 23,
     "metadata": {},
     "output_type": "execute_result"
    }
   ],
   "source": [
    "nb_sold_by_date = avocados.groupby(\"date\")[\"nb_sold\"].sum()\n",
    "nb_sold_by_date"
   ]
  },
  {
   "cell_type": "markdown",
   "metadata": {},
   "source": [
    "Create a line plot of the number of avocados sold."
   ]
  },
  {
   "cell_type": "code",
   "execution_count": 26,
   "metadata": {},
   "outputs": [
    {
     "data": {
      "text/plain": [
       "<Axes: xlabel='date'>"
      ]
     },
     "execution_count": 26,
     "metadata": {},
     "output_type": "execute_result"
    },
    {
     "data": {
      "image/png": "[encoded data removed]",
      "text/plain": [
       "<Figure size 640x480 with 1 Axes>"
      ]
     },
     "metadata": {},
     "output_type": "display_data"
    }
   ],
   "source": [
    "nb_sold_by_date.plot(kind=\"line\", rot=45)"
   ]
  },
  {
   "cell_type": "markdown",
   "metadata": {},
   "source": [
    "Show the plot."
   ]
  },
  {
   "cell_type": "code",
   "execution_count": 27,
   "metadata": {},
   "outputs": [],
   "source": [
    "plt.show()"
   ]
  },
  {
   "cell_type": "markdown",
   "metadata": {},
   "source": [
    "<a id=\"avo-sup-dem\"></a>\n",
    "## 1.3 Avocado supply and demand\n",
    "Scatter plots are ideal for visualizing relationships between numerical variables. In this exercise, you'll compare the number of avocados sold to average price and see if they're at all related. If they're related, you may be able to use one number to predict the other."
   ]
  },
  {
   "cell_type": "markdown",
   "metadata": {},
   "source": [
    "Create a scatter plot with nb_sold on the x-axis and avg_price on the y-axis. Title it \"Number of avocados sold vs. average price\"."
   ]
  },
  {
   "cell_type": "code",
   "execution_count": 41,
   "metadata": {},
   "outputs": [
    {
     "data": {
      "text/plain": [
       "<Axes: title={'center': 'Number of avocados sold vs. average price'}, xlabel='nb_sold', ylabel='avg_price'>"
      ]
     },
     "execution_count": 41,
     "metadata": {},
     "output_type": "execute_result"
    },
    {
     "data": {
      "image/png": "[encoded data removed]",
      "text/plain": [
       "<Figure size 640x480 with 1 Axes>"
      ]
     },
     "metadata": {},
     "output_type": "display_data"
    }
   ],
   "source": [
    "avocados.plot(kind=\"scatter\", x=\"nb_sold\", y=\"avg_price\", title=\"Number of avocados sold vs. average price\",\n",
    "              xlabel=\"nb_sold\", ylabel=\"avg_price\")"
   ]
  },
  {
   "cell_type": "markdown",
   "metadata": {},
   "source": [
    "Show the plot."
   ]
  },
  {
   "cell_type": "code",
   "execution_count": 38,
   "metadata": {},
   "outputs": [],
   "source": [
    "plt.show()"
   ]
  },
  {
   "cell_type": "markdown",
   "metadata": {},
   "source": [
    "<a id=\"price-conv-vs-org-avo\"></a>\n",
    "## 1.4 Price of conventional vs. organic avocados\n",
    "Creating multiple plots for different subsets of data allows you to compare groups. In this exercise, you'll create multiple histograms to compare the prices of conventional and organic avocados."
   ]
  },
  {
   "cell_type": "markdown",
   "metadata": {},
   "source": [
    "Subset avocados for the conventional type, and the average price column. Create a histogram.<br>\n",
    "The transparency of both histograms should be 0.5 to see how much overlap there is between the two distributions.\n",
    "Use 20 bins in both histograms."
   ]
  },
  {
   "cell_type": "code",
   "execution_count": 57,
   "metadata": {},
   "outputs": [
    {
     "data": {
      "text/plain": [
       "<Axes: >"
      ]
     },
     "execution_count": 57,
     "metadata": {},
     "output_type": "execute_result"
    },
    {
     "data": {
      "image/png": "[encoded data removed]",
      "text/plain": [
       "<Figure size 640x480 with 1 Axes>"
      ]
     },
     "metadata": {},
     "output_type": "display_data"
    }
   ],
   "source": [
    "avocados[avocados[\"type\"] == \"conventional\"][\"avg_price\"].hist(alpha=0.5)"
   ]
  },
  {
   "cell_type": "markdown",
   "metadata": {},
   "source": [
    "Create a histogram of avg_price for organic type avocados."
   ]
  },
  {
   "cell_type": "code",
   "execution_count": 56,
   "metadata": {},
   "outputs": [
    {
     "data": {
      "text/plain": [
       "<Axes: >"
      ]
     },
     "execution_count": 56,
     "metadata": {},
     "output_type": "execute_result"
    },
    {
     "data": {
      "image/png": "[encoded data removed]",
      "text/plain": [
       "<Figure size 640x480 with 1 Axes>"
      ]
     },
     "metadata": {},
     "output_type": "display_data"
    }
   ],
   "source": [
    "avocados[avocados[\"type\"] == \"organic\"][\"avg_price\"].hist(alpha=0.5)"
   ]
  },
  {
   "cell_type": "markdown",
   "metadata": {},
   "source": [
    "Add a legend to your plot, with the names \"conventional\" and \"organic\"."
   ]
  },
  {
   "cell_type": "code",
   "execution_count": 50,
   "metadata": {},
   "outputs": [
    {
     "name": "stderr",
     "output_type": "stream",
     "text": [
      "/tmp/ipykernel_36877/1123587810.py:1: UserWarning: Legend does not support handles for str instances.\n",
      "A proxy artist may be used instead.\n",
      "See: https://matplotlib.org/stable/users/explain/axes/legend_guide.html#controlling-the-legend-entries\n",
      "  plt.legend(\"conventional\", \"organic\")\n"
     ]
    },
    {
     "data": {
      "text/plain": [
       "<matplotlib.legend.Legend at 0x7f5f646931f0>"
      ]
     },
     "execution_count": 50,
     "metadata": {},
     "output_type": "execute_result"
    },
    {
     "data": {
      "image/png": "[encoded data removed]",
      "text/plain": [
       "<Figure size 640x480 with 1 Axes>"
      ]
     },
     "metadata": {},
     "output_type": "display_data"
    }
   ],
   "source": [
    "plt.legend([\"conventional\", \"organic\"])"
   ]
  },
  {
   "cell_type": "markdown",
   "metadata": {},
   "source": [
    "\n",
    "Show your plot."
   ]
  },
  {
   "cell_type": "code",
   "execution_count": 51,
   "metadata": {},
   "outputs": [],
   "source": [
    "plt.show()"
   ]
  },
  {
   "cell_type": "markdown",
   "metadata": {},
   "source": [
    "<a id=\"mis-vals\"></a>\n",
    "# 2 Missing values\n",
    "<div align=\"middle\">\n",
    "<video width=\"60%\" controls>\n",
    "      <source src=\"./../../res/videos/4.creating-visualizing-dataframes/2.missing_values.mp4\" type=\"video/mp4\">\n",
    "</video></div>\n",
    "\n",
    "<a id=\"f-mis-vals\"></a>\n",
    "## 2.1 Finding missing values\n",
    "Missing values are everywhere, and you don't want them interfering with your work. Some functions ignore missing data by default, but that's not always the behavior you might want. Some functions can't handle missing values at all, so these values need to be taken care of before you can use them. If you don't know where your missing values are, or if they exist, you could make mistakes in your analysis. In this exercise, you'll determine if there are missing values in the dataset, and if so, how many.\n",
    "\n",
    "avocados_2016, a subset of avocados that contains only sales from 2016."
   ]
  },
  {
   "cell_type": "code",
   "execution_count": 215,
   "metadata": {},
   "outputs": [],
   "source": [
    "from numpy import nan\n",
    "\n",
    "def delete_some_avocados(df):\n",
    "    stop:int = len(df.index)\n",
    "    steps = np.random.randint(1, (stop // 10))\n",
    "    for i in range(0, stop, steps):\n",
    "        # between type and nb_sold col, don't set date NaN\n",
    "        del_col:int = np.random.randint(1, 5)\n",
    "        df.iloc[i, del_col] = nan # or np.nan or None or pd.NA\n",
    "        steps = np.random.randint(1, stop)"
   ]
  },
  {
   "cell_type": "code",
   "execution_count": 216,
   "metadata": {},
   "outputs": [],
   "source": [
    "avocados_2016 = avocados[avocados[\"year\"] == 2016]\n",
    "\n",
    "delete_some_avocados(avocados_2016)"
   ]
  },
  {
   "cell_type": "markdown",
   "metadata": {},
   "source": [
    "Print a DataFrame that shows whether each value in avocados_2016 is missing or not."
   ]
  },
  {
   "cell_type": "code",
   "execution_count": 213,
   "metadata": {},
   "outputs": [
    {
     "data": {
      "text/html": [
       "<div>\n",
       "<style scoped>\n",
       "    .dataframe tbody tr th:only-of-type {\n",
       "        vertical-align: middle;\n",
       "    }\n",
       "\n",
       "    .dataframe tbody tr th {\n",
       "        vertical-align: top;\n",
       "    }\n",
       "\n",
       "    .dataframe thead th {\n",
       "        text-align: right;\n",
       "    }\n",
       "</style>\n",
       "<table border=\"1\" class=\"dataframe\">\n",
       "  <thead>\n",
       "    <tr style=\"text-align: right;\">\n",
       "      <th></th>\n",
       "      <th>date</th>\n",
       "      <th>type</th>\n",
       "      <th>year</th>\n",
       "      <th>avg_price</th>\n",
       "      <th>size</th>\n",
       "      <th>nb_sold</th>\n",
       "    </tr>\n",
       "  </thead>\n",
       "  <tbody>\n",
       "    <tr>\n",
       "      <th>52</th>\n",
       "      <td>False</td>\n",
       "      <td>False</td>\n",
       "      <td>False</td>\n",
       "      <td>True</td>\n",
       "      <td>False</td>\n",
       "      <td>False</td>\n",
       "    </tr>\n",
       "    <tr>\n",
       "      <th>53</th>\n",
       "      <td>False</td>\n",
       "      <td>False</td>\n",
       "      <td>False</td>\n",
       "      <td>False</td>\n",
       "      <td>False</td>\n",
       "      <td>False</td>\n",
       "    </tr>\n",
       "    <tr>\n",
       "      <th>54</th>\n",
       "      <td>False</td>\n",
       "      <td>False</td>\n",
       "      <td>False</td>\n",
       "      <td>False</td>\n",
       "      <td>False</td>\n",
       "      <td>False</td>\n",
       "    </tr>\n",
       "    <tr>\n",
       "      <th>55</th>\n",
       "      <td>False</td>\n",
       "      <td>False</td>\n",
       "      <td>False</td>\n",
       "      <td>False</td>\n",
       "      <td>False</td>\n",
       "      <td>False</td>\n",
       "    </tr>\n",
       "    <tr>\n",
       "      <th>56</th>\n",
       "      <td>False</td>\n",
       "      <td>False</td>\n",
       "      <td>False</td>\n",
       "      <td>False</td>\n",
       "      <td>False</td>\n",
       "      <td>False</td>\n",
       "    </tr>\n",
       "    <tr>\n",
       "      <th>...</th>\n",
       "      <td>...</td>\n",
       "      <td>...</td>\n",
       "      <td>...</td>\n",
       "      <td>...</td>\n",
       "      <td>...</td>\n",
       "      <td>...</td>\n",
       "    </tr>\n",
       "    <tr>\n",
       "      <th>944</th>\n",
       "      <td>False</td>\n",
       "      <td>False</td>\n",
       "      <td>False</td>\n",
       "      <td>False</td>\n",
       "      <td>False</td>\n",
       "      <td>False</td>\n",
       "    </tr>\n",
       "    <tr>\n",
       "      <th>945</th>\n",
       "      <td>False</td>\n",
       "      <td>False</td>\n",
       "      <td>False</td>\n",
       "      <td>False</td>\n",
       "      <td>False</td>\n",
       "      <td>False</td>\n",
       "    </tr>\n",
       "    <tr>\n",
       "      <th>946</th>\n",
       "      <td>False</td>\n",
       "      <td>False</td>\n",
       "      <td>False</td>\n",
       "      <td>False</td>\n",
       "      <td>False</td>\n",
       "      <td>False</td>\n",
       "    </tr>\n",
       "    <tr>\n",
       "      <th>947</th>\n",
       "      <td>False</td>\n",
       "      <td>False</td>\n",
       "      <td>False</td>\n",
       "      <td>False</td>\n",
       "      <td>False</td>\n",
       "      <td>False</td>\n",
       "    </tr>\n",
       "    <tr>\n",
       "      <th>948</th>\n",
       "      <td>False</td>\n",
       "      <td>False</td>\n",
       "      <td>False</td>\n",
       "      <td>False</td>\n",
       "      <td>False</td>\n",
       "      <td>False</td>\n",
       "    </tr>\n",
       "  </tbody>\n",
       "</table>\n",
       "<p>312 rows × 6 columns</p>\n",
       "</div>"
      ],
      "text/plain": [
       "      date   type   year  avg_price   size  nb_sold\n",
       "52   False  False  False       True  False    False\n",
       "53   False  False  False      False  False    False\n",
       "54   False  False  False      False  False    False\n",
       "55   False  False  False      False  False    False\n",
       "56   False  False  False      False  False    False\n",
       "..     ...    ...    ...        ...    ...      ...\n",
       "944  False  False  False      False  False    False\n",
       "945  False  False  False      False  False    False\n",
       "946  False  False  False      False  False    False\n",
       "947  False  False  False      False  False    False\n",
       "948  False  False  False      False  False    False\n",
       "\n",
       "[312 rows x 6 columns]"
      ]
     },
     "execution_count": 213,
     "metadata": {},
     "output_type": "execute_result"
    }
   ],
   "source": [
    "avocados_2016.isna()"
   ]
  },
  {
   "cell_type": "markdown",
   "metadata": {},
   "source": [
    "Print a summary that shows whether any value in each column is missing or not."
   ]
  },
  {
   "cell_type": "code",
   "execution_count": 214,
   "metadata": {},
   "outputs": [
    {
     "data": {
      "text/html": [
       "<div>\n",
       "<style scoped>\n",
       "    .dataframe tbody tr th:only-of-type {\n",
       "        vertical-align: middle;\n",
       "    }\n",
       "\n",
       "    .dataframe tbody tr th {\n",
       "        vertical-align: top;\n",
       "    }\n",
       "\n",
       "    .dataframe thead th {\n",
       "        text-align: right;\n",
       "    }\n",
       "</style>\n",
       "<table border=\"1\" class=\"dataframe\">\n",
       "  <thead>\n",
       "    <tr style=\"text-align: right;\">\n",
       "      <th></th>\n",
       "      <th>date</th>\n",
       "      <th>type</th>\n",
       "      <th>year</th>\n",
       "      <th>avg_price</th>\n",
       "      <th>size</th>\n",
       "      <th>nb_sold</th>\n",
       "    </tr>\n",
       "  </thead>\n",
       "  <tbody>\n",
       "    <tr>\n",
       "      <th>52</th>\n",
       "      <td>2016-12-25</td>\n",
       "      <td>conventional</td>\n",
       "      <td>2016.0</td>\n",
       "      <td>NaN</td>\n",
       "      <td>small</td>\n",
       "      <td>9255125.20</td>\n",
       "    </tr>\n",
       "    <tr>\n",
       "      <th>53</th>\n",
       "      <td>2016-12-18</td>\n",
       "      <td>conventional</td>\n",
       "      <td>2016.0</td>\n",
       "      <td>0.96</td>\n",
       "      <td>small</td>\n",
       "      <td>9394065.91</td>\n",
       "    </tr>\n",
       "    <tr>\n",
       "      <th>54</th>\n",
       "      <td>2016-12-11</td>\n",
       "      <td>conventional</td>\n",
       "      <td>2016.0</td>\n",
       "      <td>0.98</td>\n",
       "      <td>small</td>\n",
       "      <td>9009996.11</td>\n",
       "    </tr>\n",
       "    <tr>\n",
       "      <th>55</th>\n",
       "      <td>2016-12-04</td>\n",
       "      <td>conventional</td>\n",
       "      <td>2016.0</td>\n",
       "      <td>1.00</td>\n",
       "      <td>small</td>\n",
       "      <td>11043350.90</td>\n",
       "    </tr>\n",
       "    <tr>\n",
       "      <th>56</th>\n",
       "      <td>2016-11-27</td>\n",
       "      <td>conventional</td>\n",
       "      <td>2016.0</td>\n",
       "      <td>1.21</td>\n",
       "      <td>small</td>\n",
       "      <td>7891487.94</td>\n",
       "    </tr>\n",
       "    <tr>\n",
       "      <th>...</th>\n",
       "      <td>...</td>\n",
       "      <td>...</td>\n",
       "      <td>...</td>\n",
       "      <td>...</td>\n",
       "      <td>...</td>\n",
       "      <td>...</td>\n",
       "    </tr>\n",
       "    <tr>\n",
       "      <th>944</th>\n",
       "      <td>2016-01-31</td>\n",
       "      <td>organic</td>\n",
       "      <td>2016.0</td>\n",
       "      <td>1.43</td>\n",
       "      <td>extra_large</td>\n",
       "      <td>5515.91</td>\n",
       "    </tr>\n",
       "    <tr>\n",
       "      <th>945</th>\n",
       "      <td>2016-01-24</td>\n",
       "      <td>organic</td>\n",
       "      <td>2016.0</td>\n",
       "      <td>1.41</td>\n",
       "      <td>extra_large</td>\n",
       "      <td>12933.97</td>\n",
       "    </tr>\n",
       "    <tr>\n",
       "      <th>946</th>\n",
       "      <td>2016-01-17</td>\n",
       "      <td>organic</td>\n",
       "      <td>2016.0</td>\n",
       "      <td>1.44</td>\n",
       "      <td>extra_large</td>\n",
       "      <td>13106.29</td>\n",
       "    </tr>\n",
       "    <tr>\n",
       "      <th>947</th>\n",
       "      <td>2016-01-10</td>\n",
       "      <td>organic</td>\n",
       "      <td>2016.0</td>\n",
       "      <td>1.35</td>\n",
       "      <td>extra_large</td>\n",
       "      <td>8771.79</td>\n",
       "    </tr>\n",
       "    <tr>\n",
       "      <th>948</th>\n",
       "      <td>2016-01-03</td>\n",
       "      <td>organic</td>\n",
       "      <td>2016.0</td>\n",
       "      <td>1.43</td>\n",
       "      <td>extra_large</td>\n",
       "      <td>7749.40</td>\n",
       "    </tr>\n",
       "  </tbody>\n",
       "</table>\n",
       "<p>312 rows × 6 columns</p>\n",
       "</div>"
      ],
      "text/plain": [
       "           date          type    year  avg_price         size      nb_sold\n",
       "52   2016-12-25  conventional  2016.0        NaN        small   9255125.20\n",
       "53   2016-12-18  conventional  2016.0       0.96        small   9394065.91\n",
       "54   2016-12-11  conventional  2016.0       0.98        small   9009996.11\n",
       "55   2016-12-04  conventional  2016.0       1.00        small  11043350.90\n",
       "56   2016-11-27  conventional  2016.0       1.21        small   7891487.94\n",
       "..          ...           ...     ...        ...          ...          ...\n",
       "944  2016-01-31       organic  2016.0       1.43  extra_large      5515.91\n",
       "945  2016-01-24       organic  2016.0       1.41  extra_large     12933.97\n",
       "946  2016-01-17       organic  2016.0       1.44  extra_large     13106.29\n",
       "947  2016-01-10       organic  2016.0       1.35  extra_large      8771.79\n",
       "948  2016-01-03       organic  2016.0       1.43  extra_large      7749.40\n",
       "\n",
       "[312 rows x 6 columns]"
      ]
     },
     "execution_count": 214,
     "metadata": {},
     "output_type": "execute_result"
    }
   ],
   "source": [
    "# avocados_2016.isna().any()\n",
    "avocados_2016"
   ]
  },
  {
   "cell_type": "markdown",
   "metadata": {},
   "source": [
    "Create a bar plot of the total number of missing values in each column."
   ]
  },
  {
   "cell_type": "code",
   "execution_count": 205,
   "metadata": {},
   "outputs": [
    {
     "data": {
      "image/png": "[encoded data removed]",
      "text/plain": [
       "<Figure size 640x480 with 1 Axes>"
      ]
     },
     "metadata": {},
     "output_type": "display_data"
    }
   ],
   "source": [
    "avocados_2016.isna().sum().plot(kind=\"bar\", rot=45)\n",
    "plt.show()"
   ]
  },
  {
   "cell_type": "markdown",
   "metadata": {},
   "source": [
    "<a id=\"rm-mis-vals\"></a>\n",
    "## 2.2 Removing missing values\n",
    "Now that you know there are some missing values in your DataFrame, you have a few options to deal with them. One way is to remove them from the dataset completely. In this exercise, you'll remove missing values by removing all rows that contain missing values."
   ]
  },
  {
   "cell_type": "markdown",
   "metadata": {},
   "source": [
    "Remove the rows of avocados_2016 that contain missing values and store the remaining rows in avocados_complete."
   ]
  },
  {
   "cell_type": "code",
   "execution_count": 218,
   "metadata": {},
   "outputs": [],
   "source": [
    "avocados_complete = avocados_2016.dropna()"
   ]
  },
  {
   "cell_type": "markdown",
   "metadata": {},
   "source": [
    "Verify that all missing values have been removed from avocados_complete. Calculate each column that has NAs and print."
   ]
  },
  {
   "cell_type": "code",
   "execution_count": 219,
   "metadata": {},
   "outputs": [
    {
     "data": {
      "text/plain": [
       "date         False\n",
       "type         False\n",
       "year         False\n",
       "avg_price    False\n",
       "size         False\n",
       "nb_sold      False\n",
       "dtype: bool"
      ]
     },
     "execution_count": 219,
     "metadata": {},
     "output_type": "execute_result"
    }
   ],
   "source": [
    "avocados_complete.isna().any()"
   ]
  },
  {
   "cell_type": "markdown",
   "metadata": {},
   "source": [
    "<a id=\"rp-mis-vals\"></a>\n",
    "## 2.3 Replacing missing values\n",
    "Another way of handling missing values is to replace them all with the same value. For numerical variables, one option is to replace values with 0— you'll do this here. However, when you replace missing values, you make assumptions about what a missing value means. In this case, you will assume that a missing number sold means that no sales for that avocado type were made that week.\n",
    "\n",
    "In this exercise, you'll see how replacing missing values can affect the distribution of a variable using histograms. You can plot histograms for multiple variables at a time as follows:\n",
    "\n",
    "dogs[[\"height_cm\", \"weight_kg\"]].hist()"
   ]
  },
  {
   "cell_type": "markdown",
   "metadata": {},
   "source": [
    "A list has been created, cols_with_missing, containing the names of columns with missing values: \"small_sold\", \"large_sold\", and \"xl_sold\"."
   ]
  },
  {
   "cell_type": "code",
   "execution_count": 227,
   "metadata": {},
   "outputs": [
    {
     "data": {
      "text/html": [
       "<div>\n",
       "<style scoped>\n",
       "    .dataframe tbody tr th:only-of-type {\n",
       "        vertical-align: middle;\n",
       "    }\n",
       "\n",
       "    .dataframe tbody tr th {\n",
       "        vertical-align: top;\n",
       "    }\n",
       "\n",
       "    .dataframe thead th {\n",
       "        text-align: right;\n",
       "    }\n",
       "</style>\n",
       "<table border=\"1\" class=\"dataframe\">\n",
       "  <thead>\n",
       "    <tr style=\"text-align: right;\">\n",
       "      <th></th>\n",
       "      <th>date</th>\n",
       "      <th>avg_price</th>\n",
       "      <th>total_sold</th>\n",
       "      <th>small_sold</th>\n",
       "      <th>large_sold</th>\n",
       "      <th>xl_sold</th>\n",
       "      <th>total_bags_sold</th>\n",
       "      <th>small_bags_sold</th>\n",
       "      <th>large_bags_sold</th>\n",
       "      <th>xl_bags_sold</th>\n",
       "    </tr>\n",
       "  </thead>\n",
       "  <tbody>\n",
       "    <tr>\n",
       "      <th>0</th>\n",
       "      <td>2016-12-25</td>\n",
       "      <td>1.00</td>\n",
       "      <td>30287853.70</td>\n",
       "      <td>9255125.20</td>\n",
       "      <td>10282925.61</td>\n",
       "      <td>541972.42</td>\n",
       "      <td>10207830.47</td>\n",
       "      <td>7709584.33</td>\n",
       "      <td>2417144.92</td>\n",
       "      <td>81101.22</td>\n",
       "    </tr>\n",
       "    <tr>\n",
       "      <th>1</th>\n",
       "      <td>2016-12-18</td>\n",
       "      <td>0.96</td>\n",
       "      <td>29583882.61</td>\n",
       "      <td>9394065.91</td>\n",
       "      <td>10339168.20</td>\n",
       "      <td>427872.42</td>\n",
       "      <td>9422776.08</td>\n",
       "      <td>6970320.34</td>\n",
       "      <td>2358443.96</td>\n",
       "      <td>94011.78</td>\n",
       "    </tr>\n",
       "    <tr>\n",
       "      <th>2</th>\n",
       "      <td>2016-12-11</td>\n",
       "      <td>0.98</td>\n",
       "      <td>30093540.70</td>\n",
       "      <td>9009996.11</td>\n",
       "      <td>NaN</td>\n",
       "      <td>403047.93</td>\n",
       "      <td>10713276.64</td>\n",
       "      <td>8149438.75</td>\n",
       "      <td>2490495.07</td>\n",
       "      <td>73342.82</td>\n",
       "    </tr>\n",
       "    <tr>\n",
       "      <th>3</th>\n",
       "      <td>2016-12-04</td>\n",
       "      <td>1.00</td>\n",
       "      <td>31621221.90</td>\n",
       "      <td>11043350.90</td>\n",
       "      <td>9908982.97</td>\n",
       "      <td>428009.84</td>\n",
       "      <td>10240878.19</td>\n",
       "      <td>7187022.58</td>\n",
       "      <td>2988504.98</td>\n",
       "      <td>65350.63</td>\n",
       "    </tr>\n",
       "    <tr>\n",
       "      <th>4</th>\n",
       "      <td>2016-11-27</td>\n",
       "      <td>1.21</td>\n",
       "      <td>22923062.65</td>\n",
       "      <td>7891487.94</td>\n",
       "      <td>7337341.77</td>\n",
       "      <td>NaN</td>\n",
       "      <td>7349757.04</td>\n",
       "      <td>5691266.56</td>\n",
       "      <td>1609867.20</td>\n",
       "      <td>48623.28</td>\n",
       "    </tr>\n",
       "    <tr>\n",
       "      <th>5</th>\n",
       "      <td>2016-11-20</td>\n",
       "      <td>1.27</td>\n",
       "      <td>24989702.75</td>\n",
       "      <td>NaN</td>\n",
       "      <td>8033510.82</td>\n",
       "      <td>407567.78</td>\n",
       "      <td>8017463.63</td>\n",
       "      <td>6207080.46</td>\n",
       "      <td>1765673.77</td>\n",
       "      <td>44709.40</td>\n",
       "    </tr>\n",
       "    <tr>\n",
       "      <th>6</th>\n",
       "      <td>2016-11-13</td>\n",
       "      <td>1.36</td>\n",
       "      <td>24075126.49</td>\n",
       "      <td>8235135.43</td>\n",
       "      <td>7759608.21</td>\n",
       "      <td>477520.95</td>\n",
       "      <td>7602861.90</td>\n",
       "      <td>5602593.66</td>\n",
       "      <td>1957163.93</td>\n",
       "      <td>43104.31</td>\n",
       "    </tr>\n",
       "    <tr>\n",
       "      <th>7</th>\n",
       "      <td>2016-11-06</td>\n",
       "      <td>1.44</td>\n",
       "      <td>22534698.38</td>\n",
       "      <td>7804252.91</td>\n",
       "      <td>NaN</td>\n",
       "      <td>505349.44</td>\n",
       "      <td>7098159.72</td>\n",
       "      <td>5245066.66</td>\n",
       "      <td>1812174.32</td>\n",
       "      <td>40918.74</td>\n",
       "    </tr>\n",
       "    <tr>\n",
       "      <th>8</th>\n",
       "      <td>2016-10-30</td>\n",
       "      <td>1.43</td>\n",
       "      <td>21009730.21</td>\n",
       "      <td>7100458.82</td>\n",
       "      <td>6852046.35</td>\n",
       "      <td>453145.26</td>\n",
       "      <td>6604079.78</td>\n",
       "      <td>4655045.62</td>\n",
       "      <td>1882750.65</td>\n",
       "      <td>66283.51</td>\n",
       "    </tr>\n",
       "    <tr>\n",
       "      <th>9</th>\n",
       "      <td>2016-10-23</td>\n",
       "      <td>1.34</td>\n",
       "      <td>24753513.95</td>\n",
       "      <td>7579629.06</td>\n",
       "      <td>8104522.26</td>\n",
       "      <td>452383.96</td>\n",
       "      <td>8616978.67</td>\n",
       "      <td>6508666.81</td>\n",
       "      <td>2016513.03</td>\n",
       "      <td>91798.83</td>\n",
       "    </tr>\n",
       "    <tr>\n",
       "      <th>10</th>\n",
       "      <td>2016-10-16</td>\n",
       "      <td>1.30</td>\n",
       "      <td>27707046.82</td>\n",
       "      <td>8810664.45</td>\n",
       "      <td>NaN</td>\n",
       "      <td>447291.48</td>\n",
       "      <td>9594018.14</td>\n",
       "      <td>6934368.93</td>\n",
       "      <td>2575095.84</td>\n",
       "      <td>84553.37</td>\n",
       "    </tr>\n",
       "    <tr>\n",
       "      <th>11</th>\n",
       "      <td>2016-10-09</td>\n",
       "      <td>1.27</td>\n",
       "      <td>28857581.98</td>\n",
       "      <td>9552502.48</td>\n",
       "      <td>9579338.98</td>\n",
       "      <td>490956.88</td>\n",
       "      <td>9234783.64</td>\n",
       "      <td>6849126.90</td>\n",
       "      <td>2316377.99</td>\n",
       "      <td>69278.75</td>\n",
       "    </tr>\n",
       "    <tr>\n",
       "      <th>12</th>\n",
       "      <td>2016-10-02</td>\n",
       "      <td>1.23</td>\n",
       "      <td>29615008.49</td>\n",
       "      <td>9534915.56</td>\n",
       "      <td>9123897.74</td>\n",
       "      <td>490123.01</td>\n",
       "      <td>10466072.18</td>\n",
       "      <td>7408765.90</td>\n",
       "      <td>2981275.76</td>\n",
       "      <td>76030.52</td>\n",
       "    </tr>\n",
       "    <tr>\n",
       "      <th>13</th>\n",
       "      <td>2016-09-25</td>\n",
       "      <td>1.22</td>\n",
       "      <td>30305112.89</td>\n",
       "      <td>10548061.13</td>\n",
       "      <td>9255913.78</td>\n",
       "      <td>492604.30</td>\n",
       "      <td>10008533.68</td>\n",
       "      <td>7440444.59</td>\n",
       "      <td>2476400.79</td>\n",
       "      <td>91688.30</td>\n",
       "    </tr>\n",
       "    <tr>\n",
       "      <th>14</th>\n",
       "      <td>2016-09-18</td>\n",
       "      <td>1.15</td>\n",
       "      <td>31346091.46</td>\n",
       "      <td>11337829.10</td>\n",
       "      <td>9481313.14</td>\n",
       "      <td>486187.39</td>\n",
       "      <td>10040761.83</td>\n",
       "      <td>7649502.34</td>\n",
       "      <td>2311262.99</td>\n",
       "      <td>79996.50</td>\n",
       "    </tr>\n",
       "    <tr>\n",
       "      <th>15</th>\n",
       "      <td>2016-09-11</td>\n",
       "      <td>1.08</td>\n",
       "      <td>34126730.95</td>\n",
       "      <td>12962762.94</td>\n",
       "      <td>NaN</td>\n",
       "      <td>512160.27</td>\n",
       "      <td>10271369.65</td>\n",
       "      <td>8199580.75</td>\n",
       "      <td>2016484.84</td>\n",
       "      <td>55304.06</td>\n",
       "    </tr>\n",
       "    <tr>\n",
       "      <th>16</th>\n",
       "      <td>2016-09-04</td>\n",
       "      <td>1.04</td>\n",
       "      <td>37130688.91</td>\n",
       "      <td>14643465.52</td>\n",
       "      <td>11083513.46</td>\n",
       "      <td>NaN</td>\n",
       "      <td>10863029.04</td>\n",
       "      <td>8555283.68</td>\n",
       "      <td>2214419.29</td>\n",
       "      <td>93326.07</td>\n",
       "    </tr>\n",
       "    <tr>\n",
       "      <th>17</th>\n",
       "      <td>2016-08-28</td>\n",
       "      <td>1.09</td>\n",
       "      <td>33993931.31</td>\n",
       "      <td>12561055.50</td>\n",
       "      <td>10420973.00</td>\n",
       "      <td>563738.54</td>\n",
       "      <td>10448164.27</td>\n",
       "      <td>8503870.88</td>\n",
       "      <td>1785021.92</td>\n",
       "      <td>159271.47</td>\n",
       "    </tr>\n",
       "    <tr>\n",
       "      <th>18</th>\n",
       "      <td>2016-08-21</td>\n",
       "      <td>1.10</td>\n",
       "      <td>33592097.72</td>\n",
       "      <td>12725249.30</td>\n",
       "      <td>9906498.51</td>\n",
       "      <td>609720.87</td>\n",
       "      <td>10350629.04</td>\n",
       "      <td>8749239.27</td>\n",
       "      <td>1446381.11</td>\n",
       "      <td>155008.66</td>\n",
       "    </tr>\n",
       "    <tr>\n",
       "      <th>19</th>\n",
       "      <td>2016-08-14</td>\n",
       "      <td>1.12</td>\n",
       "      <td>34386177.30</td>\n",
       "      <td>12352932.68</td>\n",
       "      <td>NaN</td>\n",
       "      <td>749247.02</td>\n",
       "      <td>10404655.99</td>\n",
       "      <td>8479506.83</td>\n",
       "      <td>1813210.60</td>\n",
       "      <td>111938.56</td>\n",
       "    </tr>\n",
       "    <tr>\n",
       "      <th>20</th>\n",
       "      <td>2016-08-07</td>\n",
       "      <td>1.15</td>\n",
       "      <td>33819909.09</td>\n",
       "      <td>12197105.36</td>\n",
       "      <td>10731379.56</td>\n",
       "      <td>754548.53</td>\n",
       "      <td>10136875.64</td>\n",
       "      <td>8386276.39</td>\n",
       "      <td>1569550.49</td>\n",
       "      <td>181048.76</td>\n",
       "    </tr>\n",
       "    <tr>\n",
       "      <th>21</th>\n",
       "      <td>2016-07-31</td>\n",
       "      <td>1.23</td>\n",
       "      <td>31201590.22</td>\n",
       "      <td>10168972.37</td>\n",
       "      <td>10423957.83</td>\n",
       "      <td>783937.09</td>\n",
       "      <td>9824722.93</td>\n",
       "      <td>8193011.02</td>\n",
       "      <td>1431744.52</td>\n",
       "      <td>199967.39</td>\n",
       "    </tr>\n",
       "    <tr>\n",
       "      <th>22</th>\n",
       "      <td>2016-07-24</td>\n",
       "      <td>1.20</td>\n",
       "      <td>32339377.09</td>\n",
       "      <td>10331314.28</td>\n",
       "      <td>10795751.15</td>\n",
       "      <td>947964.05</td>\n",
       "      <td>10264347.61</td>\n",
       "      <td>8315738.70</td>\n",
       "      <td>1561208.69</td>\n",
       "      <td>387400.22</td>\n",
       "    </tr>\n",
       "    <tr>\n",
       "      <th>23</th>\n",
       "      <td>2016-07-17</td>\n",
       "      <td>1.15</td>\n",
       "      <td>32656123.63</td>\n",
       "      <td>10320463.27</td>\n",
       "      <td>10628872.60</td>\n",
       "      <td>953631.47</td>\n",
       "      <td>10753156.29</td>\n",
       "      <td>8737861.29</td>\n",
       "      <td>1624816.27</td>\n",
       "      <td>390478.73</td>\n",
       "    </tr>\n",
       "    <tr>\n",
       "      <th>24</th>\n",
       "      <td>2016-07-10</td>\n",
       "      <td>1.10</td>\n",
       "      <td>35567568.43</td>\n",
       "      <td>11457080.38</td>\n",
       "      <td>11677528.00</td>\n",
       "      <td>1266433.97</td>\n",
       "      <td>11166526.08</td>\n",
       "      <td>8984513.63</td>\n",
       "      <td>1727668.80</td>\n",
       "      <td>454343.65</td>\n",
       "    </tr>\n",
       "    <tr>\n",
       "      <th>25</th>\n",
       "      <td>2016-07-03</td>\n",
       "      <td>1.06</td>\n",
       "      <td>39993186.04</td>\n",
       "      <td>12508937.27</td>\n",
       "      <td>13315901.42</td>\n",
       "      <td>1761343.08</td>\n",
       "      <td>12407004.27</td>\n",
       "      <td>9967538.34</td>\n",
       "      <td>1887772.28</td>\n",
       "      <td>551693.65</td>\n",
       "    </tr>\n",
       "    <tr>\n",
       "      <th>26</th>\n",
       "      <td>2016-06-26</td>\n",
       "      <td>1.04</td>\n",
       "      <td>36617023.79</td>\n",
       "      <td>12189035.17</td>\n",
       "      <td>12029918.60</td>\n",
       "      <td>1624942.43</td>\n",
       "      <td>10773127.59</td>\n",
       "      <td>8834969.52</td>\n",
       "      <td>1609568.98</td>\n",
       "      <td>328589.09</td>\n",
       "    </tr>\n",
       "    <tr>\n",
       "      <th>27</th>\n",
       "      <td>2016-06-19</td>\n",
       "      <td>1.02</td>\n",
       "      <td>38489936.14</td>\n",
       "      <td>13488851.61</td>\n",
       "      <td>12842698.33</td>\n",
       "      <td>1642735.63</td>\n",
       "      <td>10515650.57</td>\n",
       "      <td>8223280.88</td>\n",
       "      <td>1975350.75</td>\n",
       "      <td>317018.94</td>\n",
       "    </tr>\n",
       "    <tr>\n",
       "      <th>28</th>\n",
       "      <td>2016-06-12</td>\n",
       "      <td>1.04</td>\n",
       "      <td>35580820.00</td>\n",
       "      <td>12291686.69</td>\n",
       "      <td>11533969.83</td>\n",
       "      <td>1607344.08</td>\n",
       "      <td>10147819.40</td>\n",
       "      <td>8039865.67</td>\n",
       "      <td>1796513.74</td>\n",
       "      <td>311439.99</td>\n",
       "    </tr>\n",
       "    <tr>\n",
       "      <th>29</th>\n",
       "      <td>2016-06-05</td>\n",
       "      <td>0.97</td>\n",
       "      <td>40231259.65</td>\n",
       "      <td>13808859.16</td>\n",
       "      <td>13396651.73</td>\n",
       "      <td>1770948.09</td>\n",
       "      <td>11254800.67</td>\n",
       "      <td>8492744.45</td>\n",
       "      <td>2441022.99</td>\n",
       "      <td>321033.23</td>\n",
       "    </tr>\n",
       "    <tr>\n",
       "      <th>30</th>\n",
       "      <td>2016-05-29</td>\n",
       "      <td>0.94</td>\n",
       "      <td>40019075.24</td>\n",
       "      <td>13682611.21</td>\n",
       "      <td>13829591.06</td>\n",
       "      <td>NaN</td>\n",
       "      <td>10923377.04</td>\n",
       "      <td>8085657.41</td>\n",
       "      <td>2657598.78</td>\n",
       "      <td>180120.85</td>\n",
       "    </tr>\n",
       "    <tr>\n",
       "      <th>31</th>\n",
       "      <td>2016-05-22</td>\n",
       "      <td>0.93</td>\n",
       "      <td>36958035.51</td>\n",
       "      <td>11711999.81</td>\n",
       "      <td>12981224.42</td>\n",
       "      <td>1640829.40</td>\n",
       "      <td>10623981.88</td>\n",
       "      <td>7835766.14</td>\n",
       "      <td>2563223.75</td>\n",
       "      <td>224991.99</td>\n",
       "    </tr>\n",
       "    <tr>\n",
       "      <th>32</th>\n",
       "      <td>2016-05-15</td>\n",
       "      <td>0.89</td>\n",
       "      <td>39914996.74</td>\n",
       "      <td>12447598.49</td>\n",
       "      <td>14437190.03</td>\n",
       "      <td>NaN</td>\n",
       "      <td>11276355.61</td>\n",
       "      <td>7987028.55</td>\n",
       "      <td>3143280.05</td>\n",
       "      <td>146047.01</td>\n",
       "    </tr>\n",
       "    <tr>\n",
       "      <th>33</th>\n",
       "      <td>2016-05-08</td>\n",
       "      <td>0.82</td>\n",
       "      <td>46324529.70</td>\n",
       "      <td>14223304.98</td>\n",
       "      <td>17896391.60</td>\n",
       "      <td>1993645.36</td>\n",
       "      <td>12211187.76</td>\n",
       "      <td>8747756.84</td>\n",
       "      <td>3342780.83</td>\n",
       "      <td>120650.09</td>\n",
       "    </tr>\n",
       "    <tr>\n",
       "      <th>34</th>\n",
       "      <td>2016-05-01</td>\n",
       "      <td>0.84</td>\n",
       "      <td>42867608.54</td>\n",
       "      <td>13748944.38</td>\n",
       "      <td>15899858.37</td>\n",
       "      <td>1414364.49</td>\n",
       "      <td>11804441.30</td>\n",
       "      <td>8376124.32</td>\n",
       "      <td>3365582.11</td>\n",
       "      <td>62734.87</td>\n",
       "    </tr>\n",
       "    <tr>\n",
       "      <th>35</th>\n",
       "      <td>2016-04-24</td>\n",
       "      <td>0.87</td>\n",
       "      <td>39607695.30</td>\n",
       "      <td>12913697.19</td>\n",
       "      <td>14382184.80</td>\n",
       "      <td>1599863.98</td>\n",
       "      <td>10711949.33</td>\n",
       "      <td>7835835.83</td>\n",
       "      <td>2801102.86</td>\n",
       "      <td>75010.64</td>\n",
       "    </tr>\n",
       "    <tr>\n",
       "      <th>36</th>\n",
       "      <td>2016-04-17</td>\n",
       "      <td>0.90</td>\n",
       "      <td>37467885.19</td>\n",
       "      <td>NaN</td>\n",
       "      <td>12896366.58</td>\n",
       "      <td>1896149.50</td>\n",
       "      <td>10720881.55</td>\n",
       "      <td>8128710.21</td>\n",
       "      <td>2467001.94</td>\n",
       "      <td>125169.40</td>\n",
       "    </tr>\n",
       "    <tr>\n",
       "      <th>37</th>\n",
       "      <td>2016-04-10</td>\n",
       "      <td>0.90</td>\n",
       "      <td>36584029.39</td>\n",
       "      <td>12879820.47</td>\n",
       "      <td>NaN</td>\n",
       "      <td>1666275.13</td>\n",
       "      <td>10499801.43</td>\n",
       "      <td>7808770.98</td>\n",
       "      <td>2613293.43</td>\n",
       "      <td>77737.02</td>\n",
       "    </tr>\n",
       "    <tr>\n",
       "      <th>38</th>\n",
       "      <td>2016-04-03</td>\n",
       "      <td>0.94</td>\n",
       "      <td>33668450.55</td>\n",
       "      <td>11320969.79</td>\n",
       "      <td>11512621.85</td>\n",
       "      <td>1731910.48</td>\n",
       "      <td>9102948.43</td>\n",
       "      <td>6830380.18</td>\n",
       "      <td>2213379.44</td>\n",
       "      <td>59188.81</td>\n",
       "    </tr>\n",
       "    <tr>\n",
       "      <th>39</th>\n",
       "      <td>2016-03-27</td>\n",
       "      <td>0.94</td>\n",
       "      <td>35930195.92</td>\n",
       "      <td>11249198.40</td>\n",
       "      <td>12745266.73</td>\n",
       "      <td>1880231.38</td>\n",
       "      <td>10055499.41</td>\n",
       "      <td>7745105.36</td>\n",
       "      <td>2228007.91</td>\n",
       "      <td>82386.14</td>\n",
       "    </tr>\n",
       "    <tr>\n",
       "      <th>40</th>\n",
       "      <td>2016-03-20</td>\n",
       "      <td>0.93</td>\n",
       "      <td>36335483.78</td>\n",
       "      <td>NaN</td>\n",
       "      <td>13727453.57</td>\n",
       "      <td>1773088.87</td>\n",
       "      <td>9700550.36</td>\n",
       "      <td>7248857.68</td>\n",
       "      <td>2374053.89</td>\n",
       "      <td>77638.79</td>\n",
       "    </tr>\n",
       "    <tr>\n",
       "      <th>41</th>\n",
       "      <td>2016-03-13</td>\n",
       "      <td>0.93</td>\n",
       "      <td>36374516.14</td>\n",
       "      <td>11661687.44</td>\n",
       "      <td>13104887.66</td>\n",
       "      <td>1800065.57</td>\n",
       "      <td>9807875.47</td>\n",
       "      <td>7231162.60</td>\n",
       "      <td>2521123.87</td>\n",
       "      <td>55589.00</td>\n",
       "    </tr>\n",
       "    <tr>\n",
       "      <th>42</th>\n",
       "      <td>2016-03-06</td>\n",
       "      <td>0.95</td>\n",
       "      <td>35064506.04</td>\n",
       "      <td>11824154.63</td>\n",
       "      <td>12196587.24</td>\n",
       "      <td>1686475.33</td>\n",
       "      <td>9357288.84</td>\n",
       "      <td>7502570.03</td>\n",
       "      <td>1747903.69</td>\n",
       "      <td>106815.12</td>\n",
       "    </tr>\n",
       "    <tr>\n",
       "      <th>43</th>\n",
       "      <td>2016-02-28</td>\n",
       "      <td>0.91</td>\n",
       "      <td>36801817.68</td>\n",
       "      <td>11907394.72</td>\n",
       "      <td>13210854.56</td>\n",
       "      <td>1560167.75</td>\n",
       "      <td>10123400.65</td>\n",
       "      <td>7251666.99</td>\n",
       "      <td>2802238.74</td>\n",
       "      <td>69494.92</td>\n",
       "    </tr>\n",
       "    <tr>\n",
       "      <th>44</th>\n",
       "      <td>2016-02-21</td>\n",
       "      <td>0.94</td>\n",
       "      <td>32804733.22</td>\n",
       "      <td>NaN</td>\n",
       "      <td>12003751.56</td>\n",
       "      <td>1375260.47</td>\n",
       "      <td>9409896.06</td>\n",
       "      <td>7213492.61</td>\n",
       "      <td>2150749.43</td>\n",
       "      <td>45654.02</td>\n",
       "    </tr>\n",
       "    <tr>\n",
       "      <th>45</th>\n",
       "      <td>2016-02-14</td>\n",
       "      <td>0.88</td>\n",
       "      <td>36476441.86</td>\n",
       "      <td>11913078.30</td>\n",
       "      <td>13187973.29</td>\n",
       "      <td>1811090.71</td>\n",
       "      <td>9564299.56</td>\n",
       "      <td>7102422.27</td>\n",
       "      <td>2387455.67</td>\n",
       "      <td>74421.62</td>\n",
       "    </tr>\n",
       "    <tr>\n",
       "      <th>46</th>\n",
       "      <td>2016-02-07</td>\n",
       "      <td>0.76</td>\n",
       "      <td>52288697.89</td>\n",
       "      <td>16573573.78</td>\n",
       "      <td>20470572.61</td>\n",
       "      <td>2546439.11</td>\n",
       "      <td>12698112.39</td>\n",
       "      <td>9083373.04</td>\n",
       "      <td>3373077.87</td>\n",
       "      <td>241661.48</td>\n",
       "    </tr>\n",
       "    <tr>\n",
       "      <th>47</th>\n",
       "      <td>2016-01-31</td>\n",
       "      <td>0.93</td>\n",
       "      <td>34721249.92</td>\n",
       "      <td>11098088.49</td>\n",
       "      <td>13278053.61</td>\n",
       "      <td>1643703.17</td>\n",
       "      <td>8701404.65</td>\n",
       "      <td>6684515.27</td>\n",
       "      <td>1823889.58</td>\n",
       "      <td>192999.80</td>\n",
       "    </tr>\n",
       "    <tr>\n",
       "      <th>48</th>\n",
       "      <td>2016-01-24</td>\n",
       "      <td>0.95</td>\n",
       "      <td>32787079.21</td>\n",
       "      <td>7020459.00</td>\n",
       "      <td>14054367.50</td>\n",
       "      <td>1440380.36</td>\n",
       "      <td>10271872.35</td>\n",
       "      <td>7438489.60</td>\n",
       "      <td>2668368.01</td>\n",
       "      <td>165014.74</td>\n",
       "    </tr>\n",
       "    <tr>\n",
       "      <th>49</th>\n",
       "      <td>2016-01-17</td>\n",
       "      <td>0.94</td>\n",
       "      <td>34426341.87</td>\n",
       "      <td>10036597.84</td>\n",
       "      <td>13832256.04</td>\n",
       "      <td>1419405.62</td>\n",
       "      <td>9138082.37</td>\n",
       "      <td>6846324.06</td>\n",
       "      <td>2228420.91</td>\n",
       "      <td>63337.40</td>\n",
       "    </tr>\n",
       "    <tr>\n",
       "      <th>50</th>\n",
       "      <td>2016-01-10</td>\n",
       "      <td>0.93</td>\n",
       "      <td>35264336.01</td>\n",
       "      <td>NaN</td>\n",
       "      <td>13226088.66</td>\n",
       "      <td>1282612.91</td>\n",
       "      <td>9314347.55</td>\n",
       "      <td>6735384.32</td>\n",
       "      <td>2528089.14</td>\n",
       "      <td>50874.09</td>\n",
       "    </tr>\n",
       "    <tr>\n",
       "      <th>51</th>\n",
       "      <td>2016-01-03</td>\n",
       "      <td>0.86</td>\n",
       "      <td>38142088.04</td>\n",
       "      <td>NaN</td>\n",
       "      <td>16054083.86</td>\n",
       "      <td>1560068.62</td>\n",
       "      <td>8911429.39</td>\n",
       "      <td>6464895.83</td>\n",
       "      <td>2287449.76</td>\n",
       "      <td>159083.80</td>\n",
       "    </tr>\n",
       "  </tbody>\n",
       "</table>\n",
       "</div>"
      ],
      "text/plain": [
       "          date  avg_price   total_sold   small_sold   large_sold     xl_sold  \\\n",
       "0   2016-12-25       1.00  30287853.70   9255125.20  10282925.61   541972.42   \n",
       "1   2016-12-18       0.96  29583882.61   9394065.91  10339168.20   427872.42   \n",
       "2   2016-12-11       0.98  30093540.70   9009996.11          NaN   403047.93   \n",
       "3   2016-12-04       1.00  31621221.90  11043350.90   9908982.97   428009.84   \n",
       "4   2016-11-27       1.21  22923062.65   7891487.94   7337341.77         NaN   \n",
       "5   2016-11-20       1.27  24989702.75          NaN   8033510.82   407567.78   \n",
       "6   2016-11-13       1.36  24075126.49   8235135.43   7759608.21   477520.95   \n",
       "7   2016-11-06       1.44  22534698.38   7804252.91          NaN   505349.44   \n",
       "8   2016-10-30       1.43  21009730.21   7100458.82   6852046.35   453145.26   \n",
       "9   2016-10-23       1.34  24753513.95   7579629.06   8104522.26   452383.96   \n",
       "10  2016-10-16       1.30  27707046.82   8810664.45          NaN   447291.48   \n",
       "11  2016-10-09       1.27  28857581.98   9552502.48   9579338.98   490956.88   \n",
       "12  2016-10-02       1.23  29615008.49   9534915.56   9123897.74   490123.01   \n",
       "13  2016-09-25       1.22  30305112.89  10548061.13   9255913.78   492604.30   \n",
       "14  2016-09-18       1.15  31346091.46  11337829.10   9481313.14   486187.39   \n",
       "15  2016-09-11       1.08  34126730.95  12962762.94          NaN   512160.27   \n",
       "16  2016-09-04       1.04  37130688.91  14643465.52  11083513.46         NaN   \n",
       "17  2016-08-28       1.09  33993931.31  12561055.50  10420973.00   563738.54   \n",
       "18  2016-08-21       1.10  33592097.72  12725249.30   9906498.51   609720.87   \n",
       "19  2016-08-14       1.12  34386177.30  12352932.68          NaN   749247.02   \n",
       "20  2016-08-07       1.15  33819909.09  12197105.36  10731379.56   754548.53   \n",
       "21  2016-07-31       1.23  31201590.22  10168972.37  10423957.83   783937.09   \n",
       "22  2016-07-24       1.20  32339377.09  10331314.28  10795751.15   947964.05   \n",
       "23  2016-07-17       1.15  32656123.63  10320463.27  10628872.60   953631.47   \n",
       "24  2016-07-10       1.10  35567568.43  11457080.38  11677528.00  1266433.97   \n",
       "25  2016-07-03       1.06  39993186.04  12508937.27  13315901.42  1761343.08   \n",
       "26  2016-06-26       1.04  36617023.79  12189035.17  12029918.60  1624942.43   \n",
       "27  2016-06-19       1.02  38489936.14  13488851.61  12842698.33  1642735.63   \n",
       "28  2016-06-12       1.04  35580820.00  12291686.69  11533969.83  1607344.08   \n",
       "29  2016-06-05       0.97  40231259.65  13808859.16  13396651.73  1770948.09   \n",
       "30  2016-05-29       0.94  40019075.24  13682611.21  13829591.06         NaN   \n",
       "31  2016-05-22       0.93  36958035.51  11711999.81  12981224.42  1640829.40   \n",
       "32  2016-05-15       0.89  39914996.74  12447598.49  14437190.03         NaN   \n",
       "33  2016-05-08       0.82  46324529.70  14223304.98  17896391.60  1993645.36   \n",
       "34  2016-05-01       0.84  42867608.54  13748944.38  15899858.37  1414364.49   \n",
       "35  2016-04-24       0.87  39607695.30  12913697.19  14382184.80  1599863.98   \n",
       "36  2016-04-17       0.90  37467885.19          NaN  12896366.58  1896149.50   \n",
       "37  2016-04-10       0.90  36584029.39  12879820.47          NaN  1666275.13   \n",
       "38  2016-04-03       0.94  33668450.55  11320969.79  11512621.85  1731910.48   \n",
       "39  2016-03-27       0.94  35930195.92  11249198.40  12745266.73  1880231.38   \n",
       "40  2016-03-20       0.93  36335483.78          NaN  13727453.57  1773088.87   \n",
       "41  2016-03-13       0.93  36374516.14  11661687.44  13104887.66  1800065.57   \n",
       "42  2016-03-06       0.95  35064506.04  11824154.63  12196587.24  1686475.33   \n",
       "43  2016-02-28       0.91  36801817.68  11907394.72  13210854.56  1560167.75   \n",
       "44  2016-02-21       0.94  32804733.22          NaN  12003751.56  1375260.47   \n",
       "45  2016-02-14       0.88  36476441.86  11913078.30  13187973.29  1811090.71   \n",
       "46  2016-02-07       0.76  52288697.89  16573573.78  20470572.61  2546439.11   \n",
       "47  2016-01-31       0.93  34721249.92  11098088.49  13278053.61  1643703.17   \n",
       "48  2016-01-24       0.95  32787079.21   7020459.00  14054367.50  1440380.36   \n",
       "49  2016-01-17       0.94  34426341.87  10036597.84  13832256.04  1419405.62   \n",
       "50  2016-01-10       0.93  35264336.01          NaN  13226088.66  1282612.91   \n",
       "51  2016-01-03       0.86  38142088.04          NaN  16054083.86  1560068.62   \n",
       "\n",
       "    total_bags_sold  small_bags_sold  large_bags_sold  xl_bags_sold  \n",
       "0       10207830.47       7709584.33       2417144.92      81101.22  \n",
       "1        9422776.08       6970320.34       2358443.96      94011.78  \n",
       "2       10713276.64       8149438.75       2490495.07      73342.82  \n",
       "3       10240878.19       7187022.58       2988504.98      65350.63  \n",
       "4        7349757.04       5691266.56       1609867.20      48623.28  \n",
       "5        8017463.63       6207080.46       1765673.77      44709.40  \n",
       "6        7602861.90       5602593.66       1957163.93      43104.31  \n",
       "7        7098159.72       5245066.66       1812174.32      40918.74  \n",
       "8        6604079.78       4655045.62       1882750.65      66283.51  \n",
       "9        8616978.67       6508666.81       2016513.03      91798.83  \n",
       "10       9594018.14       6934368.93       2575095.84      84553.37  \n",
       "11       9234783.64       6849126.90       2316377.99      69278.75  \n",
       "12      10466072.18       7408765.90       2981275.76      76030.52  \n",
       "13      10008533.68       7440444.59       2476400.79      91688.30  \n",
       "14      10040761.83       7649502.34       2311262.99      79996.50  \n",
       "15      10271369.65       8199580.75       2016484.84      55304.06  \n",
       "16      10863029.04       8555283.68       2214419.29      93326.07  \n",
       "17      10448164.27       8503870.88       1785021.92     159271.47  \n",
       "18      10350629.04       8749239.27       1446381.11     155008.66  \n",
       "19      10404655.99       8479506.83       1813210.60     111938.56  \n",
       "20      10136875.64       8386276.39       1569550.49     181048.76  \n",
       "21       9824722.93       8193011.02       1431744.52     199967.39  \n",
       "22      10264347.61       8315738.70       1561208.69     387400.22  \n",
       "23      10753156.29       8737861.29       1624816.27     390478.73  \n",
       "24      11166526.08       8984513.63       1727668.80     454343.65  \n",
       "25      12407004.27       9967538.34       1887772.28     551693.65  \n",
       "26      10773127.59       8834969.52       1609568.98     328589.09  \n",
       "27      10515650.57       8223280.88       1975350.75     317018.94  \n",
       "28      10147819.40       8039865.67       1796513.74     311439.99  \n",
       "29      11254800.67       8492744.45       2441022.99     321033.23  \n",
       "30      10923377.04       8085657.41       2657598.78     180120.85  \n",
       "31      10623981.88       7835766.14       2563223.75     224991.99  \n",
       "32      11276355.61       7987028.55       3143280.05     146047.01  \n",
       "33      12211187.76       8747756.84       3342780.83     120650.09  \n",
       "34      11804441.30       8376124.32       3365582.11      62734.87  \n",
       "35      10711949.33       7835835.83       2801102.86      75010.64  \n",
       "36      10720881.55       8128710.21       2467001.94     125169.40  \n",
       "37      10499801.43       7808770.98       2613293.43      77737.02  \n",
       "38       9102948.43       6830380.18       2213379.44      59188.81  \n",
       "39      10055499.41       7745105.36       2228007.91      82386.14  \n",
       "40       9700550.36       7248857.68       2374053.89      77638.79  \n",
       "41       9807875.47       7231162.60       2521123.87      55589.00  \n",
       "42       9357288.84       7502570.03       1747903.69     106815.12  \n",
       "43      10123400.65       7251666.99       2802238.74      69494.92  \n",
       "44       9409896.06       7213492.61       2150749.43      45654.02  \n",
       "45       9564299.56       7102422.27       2387455.67      74421.62  \n",
       "46      12698112.39       9083373.04       3373077.87     241661.48  \n",
       "47       8701404.65       6684515.27       1823889.58     192999.80  \n",
       "48      10271872.35       7438489.60       2668368.01     165014.74  \n",
       "49       9138082.37       6846324.06       2228420.91      63337.40  \n",
       "50       9314347.55       6735384.32       2528089.14      50874.09  \n",
       "51       8911429.39       6464895.83       2287449.76     159083.80  "
      ]
     },
     "execution_count": 227,
     "metadata": {},
     "output_type": "execute_result"
    }
   ],
   "source": [
    "avocados_2016 = pd.read_csv(\"./../../data/avocados_new.csv\", index_col=0)\n",
    "# List the columns with missing values\n",
    "cols_with_missing = [\"small_sold\", \"large_sold\", \"xl_sold\"]"
   ]
  },
  {
   "cell_type": "markdown",
   "metadata": {},
   "source": [
    "Create a histogram of those columns."
   ]
  },
  {
   "cell_type": "code",
   "execution_count": 230,
   "metadata": {},
   "outputs": [
    {
     "data": {
      "text/plain": [
       "array([[<Axes: title={'center': 'small_sold'}>,\n",
       "        <Axes: title={'center': 'large_sold'}>],\n",
       "       [<Axes: title={'center': 'xl_sold'}>, <Axes: >]], dtype=object)"
      ]
     },
     "execution_count": 230,
     "metadata": {},
     "output_type": "execute_result"
    },
    {
     "data": {
      "image/png": "[encoded data removed]",
      "text/plain": [
       "<Figure size 640x480 with 4 Axes>"
      ]
     },
     "metadata": {},
     "output_type": "display_data"
    }
   ],
   "source": [
    "avocados_2016[cols_with_missing].hist()"
   ]
  },
  {
   "cell_type": "markdown",
   "metadata": {},
   "source": [
    "Show the plot."
   ]
  },
  {
   "cell_type": "code",
   "execution_count": 231,
   "metadata": {},
   "outputs": [],
   "source": [
    "plt.show()"
   ]
  },
  {
   "cell_type": "markdown",
   "metadata": {},
   "source": [
    "Replace the missing values of avocados_2016 with 0s and store the result as avocados_filled."
   ]
  },
  {
   "cell_type": "code",
   "execution_count": 232,
   "metadata": {},
   "outputs": [],
   "source": [
    "avocados_filled = avocados_2016.fillna(0)"
   ]
  },
  {
   "cell_type": "markdown",
   "metadata": {},
   "source": [
    "Create a histogram of the cols_with_missing columns of avocados_filled."
   ]
  },
  {
   "cell_type": "code",
   "execution_count": 235,
   "metadata": {},
   "outputs": [
    {
     "data": {
      "text/plain": [
       "array([[<Axes: title={'center': 'small_sold'}>,\n",
       "        <Axes: title={'center': 'large_sold'}>],\n",
       "       [<Axes: title={'center': 'xl_sold'}>, <Axes: >]], dtype=object)"
      ]
     },
     "execution_count": 235,
     "metadata": {},
     "output_type": "execute_result"
    },
    {
     "data": {
      "image/png": "[encoded data removed]",
      "text/plain": [
       "<Figure size 640x480 with 4 Axes>"
      ]
     },
     "metadata": {},
     "output_type": "display_data"
    }
   ],
   "source": [
    "avocados_filled[cols_with_missing].hist()"
   ]
  },
  {
   "cell_type": "markdown",
   "metadata": {},
   "source": [
    "<a id=\"crt-df\"></a>\n",
    "# 3 Creating DataFrames\n",
    "<div align=\"middle\">\n",
    "<video width=\"60%\" controls>\n",
    "      <source src=\"./../../res/videos/4.creating-visualizing-dataframes/3.creating_dataframes.mp4\" type=\"video/mp4\">\n",
    "</video></div>\n",
    "\n",
    "<a id=\"ls-dic\"></a>\n",
    "## 3.1 List of dictionaries\n",
    "You recently got some new avocado data from 2019 that you'd like to put in a DataFrame using the list of dictionaries method. Remember that with this method, you go through the data row by row.\n",
    "\n",
    "|date|\tsmall_sold|\tlarge_sold|\n",
    "|---|---|---|\n",
    "|\"2019-11-03\"|\t10376832|\t7835071|\n",
    "|\"2019-11-10\"|\t10717154|\t8561348|"
   ]
  },
  {
   "cell_type": "markdown",
   "metadata": {},
   "source": [
    "Create a list of dictionaries with the new data called avocados_list."
   ]
  },
  {
   "cell_type": "code",
   "execution_count": 264,
   "metadata": {},
   "outputs": [],
   "source": [
    "avocados_list = [\n",
    "    {\"date\":\"2019-11-03\", \"small_sold\":10376832, \"large_sold\":7835071},\n",
    "    {\"date\":\"2019-11-10\", \"small_sold\":10717154, \"large_sold\":8561348},\n",
    "]"
   ]
  },
  {
   "cell_type": "markdown",
   "metadata": {},
   "source": [
    "Convert the list into a DataFrame called avocados_2019."
   ]
  },
  {
   "cell_type": "code",
   "execution_count": 248,
   "metadata": {},
   "outputs": [],
   "source": [
    "avocados_2019 = pd.DataFrame(avocados_list)"
   ]
  },
  {
   "cell_type": "markdown",
   "metadata": {},
   "source": [
    "Print your new DataFrame."
   ]
  },
  {
   "cell_type": "code",
   "execution_count": 250,
   "metadata": {},
   "outputs": [
    {
     "data": {
      "text/html": [
       "<div>\n",
       "<style scoped>\n",
       "    .dataframe tbody tr th:only-of-type {\n",
       "        vertical-align: middle;\n",
       "    }\n",
       "\n",
       "    .dataframe tbody tr th {\n",
       "        vertical-align: top;\n",
       "    }\n",
       "\n",
       "    .dataframe thead th {\n",
       "        text-align: right;\n",
       "    }\n",
       "</style>\n",
       "<table border=\"1\" class=\"dataframe\">\n",
       "  <thead>\n",
       "    <tr style=\"text-align: right;\">\n",
       "      <th></th>\n",
       "      <th>date</th>\n",
       "      <th>small_sold</th>\n",
       "      <th>large_sold</th>\n",
       "    </tr>\n",
       "  </thead>\n",
       "  <tbody>\n",
       "    <tr>\n",
       "      <th>0</th>\n",
       "      <td>2019-11-03</td>\n",
       "      <td>103768632</td>\n",
       "      <td>7835071</td>\n",
       "    </tr>\n",
       "    <tr>\n",
       "      <th>1</th>\n",
       "      <td>2019-11-10</td>\n",
       "      <td>10717154</td>\n",
       "      <td>8561348</td>\n",
       "    </tr>\n",
       "  </tbody>\n",
       "</table>\n",
       "</div>"
      ],
      "text/plain": [
       "         date  small_sold  large_sold\n",
       "0  2019-11-03   103768632     7835071\n",
       "1  2019-11-10    10717154     8561348"
      ]
     },
     "execution_count": 250,
     "metadata": {},
     "output_type": "execute_result"
    }
   ],
   "source": [
    "avocados_2019"
   ]
  },
  {
   "cell_type": "markdown",
   "metadata": {},
   "source": [
    "<a id=\"dic-ls\"></a>\n",
    "## 3.2 Dictionary of lists\n",
    "Some more data just came in! This time, you'll use the dictionary of lists method, parsing the data column by column.\n",
    "\n",
    "|date|\tsmall_sold|\tlarge_sold|\n",
    "|-|-|-|\n",
    "|\"2019-11-17\"|\t10859987|\t7674135|\n",
    "|\"2019-12-01\"|\t9291631|\t6238096|"
   ]
  },
  {
   "cell_type": "markdown",
   "metadata": {},
   "source": [
    "Create a dictionary of lists with the new data called avocados_dict."
   ]
  },
  {
   "cell_type": "code",
   "execution_count": 265,
   "metadata": {},
   "outputs": [],
   "source": [
    "avocados_dict = {\n",
    "    \"date\": [\"2019-11-17\", \"2019-12-01\"],\n",
    "    \"small_sold\": [10859987, 9291631],\n",
    "    \"large_sold\": [7674135, 6238096],\n",
    "}"
   ]
  },
  {
   "cell_type": "markdown",
   "metadata": {},
   "source": [
    "Convert the dictionary to a DataFrame called avocados_2019."
   ]
  },
  {
   "cell_type": "code",
   "execution_count": 266,
   "metadata": {},
   "outputs": [],
   "source": [
    "avocados_2019 = pd.DataFrame(avocados_dict)"
   ]
  },
  {
   "cell_type": "markdown",
   "metadata": {},
   "source": [
    "Print your new DataFrame."
   ]
  },
  {
   "cell_type": "code",
   "execution_count": 267,
   "metadata": {},
   "outputs": [
    {
     "data": {
      "text/html": [
       "<div>\n",
       "<style scoped>\n",
       "    .dataframe tbody tr th:only-of-type {\n",
       "        vertical-align: middle;\n",
       "    }\n",
       "\n",
       "    .dataframe tbody tr th {\n",
       "        vertical-align: top;\n",
       "    }\n",
       "\n",
       "    .dataframe thead th {\n",
       "        text-align: right;\n",
       "    }\n",
       "</style>\n",
       "<table border=\"1\" class=\"dataframe\">\n",
       "  <thead>\n",
       "    <tr style=\"text-align: right;\">\n",
       "      <th></th>\n",
       "      <th>date</th>\n",
       "      <th>small_sold</th>\n",
       "      <th>large_sold</th>\n",
       "    </tr>\n",
       "  </thead>\n",
       "  <tbody>\n",
       "    <tr>\n",
       "      <th>0</th>\n",
       "      <td>2019-11-17</td>\n",
       "      <td>10859987</td>\n",
       "      <td>7674135</td>\n",
       "    </tr>\n",
       "    <tr>\n",
       "      <th>1</th>\n",
       "      <td>2019-12-01</td>\n",
       "      <td>9291631</td>\n",
       "      <td>6238096</td>\n",
       "    </tr>\n",
       "  </tbody>\n",
       "</table>\n",
       "</div>"
      ],
      "text/plain": [
       "         date  small_sold  large_sold\n",
       "0  2019-11-17    10859987     7674135\n",
       "1  2019-12-01     9291631     6238096"
      ]
     },
     "execution_count": 267,
     "metadata": {},
     "output_type": "execute_result"
    }
   ],
   "source": [
    "avocados_2019"
   ]
  },
  {
   "cell_type": "markdown",
   "metadata": {},
   "source": [
    "<a id=\"rw-df\"></a>\n",
    "# 4 Reading and writing DataFrames\n",
    "<div align=\"middle\">\n",
    "<video width=\"60%\" controls>\n",
    "      <source src=\"./../../res/videos/4.creating-visualizing-dataframes/4.reading_and_writing_csvs.mp4\" type=\"video/mp4\">\n",
    "</video></div>\n",
    "\n",
    "<a id=\"csv-df\"></a>\n",
    "## 4.1 CSV to DataFrame\n",
    "You work for an airline, and your manager has asked you to do a competitive analysis and see how often passengers flying on other airlines are involuntarily bumped from their flights. You got a CSV file (airline_bumping.csv) from the Department of Transportation containing data on passengers that were involuntarily denied boarding in 2016 and 2017, but it doesn't have the exact numbers you want. In order to figure this out, you'll need to get the CSV into a pandas DataFrame and do some manipulation!\n",
    "\n",
    "pandas is imported for you as pd. \"airline_bumping.csv\" is in your working directory."
   ]
  },
  {
   "cell_type": "markdown",
   "metadata": {},
   "source": [
    "Read the CSV file \"airline_bumping.csv\" and store it as a DataFrame called airline_bumping."
   ]
  },
  {
   "cell_type": "code",
   "execution_count": 271,
   "metadata": {},
   "outputs": [],
   "source": [
    "airline_bumping = pd.read_csv(\"./../../data/airline_bumping.csv\", index_col=0)"
   ]
  },
  {
   "cell_type": "markdown",
   "metadata": {},
   "source": [
    "Print the first few rows of airline_bumping."
   ]
  },
  {
   "cell_type": "code",
   "execution_count": 274,
   "metadata": {},
   "outputs": [
    {
     "data": {
      "text/html": [
       "<div>\n",
       "<style scoped>\n",
       "    .dataframe tbody tr th:only-of-type {\n",
       "        vertical-align: middle;\n",
       "    }\n",
       "\n",
       "    .dataframe tbody tr th {\n",
       "        vertical-align: top;\n",
       "    }\n",
       "\n",
       "    .dataframe thead th {\n",
       "        text-align: right;\n",
       "    }\n",
       "</style>\n",
       "<table border=\"1\" class=\"dataframe\">\n",
       "  <thead>\n",
       "    <tr style=\"text-align: right;\">\n",
       "      <th></th>\n",
       "      <th>year</th>\n",
       "      <th>nb_bumped</th>\n",
       "      <th>total_passengers</th>\n",
       "    </tr>\n",
       "    <tr>\n",
       "      <th>airline</th>\n",
       "      <th></th>\n",
       "      <th></th>\n",
       "      <th></th>\n",
       "    </tr>\n",
       "  </thead>\n",
       "  <tbody>\n",
       "    <tr>\n",
       "      <th>DELTA AIR LINES</th>\n",
       "      <td>2017</td>\n",
       "      <td>679</td>\n",
       "      <td>99796155</td>\n",
       "    </tr>\n",
       "    <tr>\n",
       "      <th>VIRGIN AMERICA</th>\n",
       "      <td>2017</td>\n",
       "      <td>165</td>\n",
       "      <td>6090029</td>\n",
       "    </tr>\n",
       "    <tr>\n",
       "      <th>JETBLUE AIRWAYS</th>\n",
       "      <td>2017</td>\n",
       "      <td>1475</td>\n",
       "      <td>27255038</td>\n",
       "    </tr>\n",
       "    <tr>\n",
       "      <th>UNITED AIRLINES</th>\n",
       "      <td>2017</td>\n",
       "      <td>2067</td>\n",
       "      <td>70030765</td>\n",
       "    </tr>\n",
       "    <tr>\n",
       "      <th>HAWAIIAN AIRLINES</th>\n",
       "      <td>2017</td>\n",
       "      <td>92</td>\n",
       "      <td>8422734</td>\n",
       "    </tr>\n",
       "  </tbody>\n",
       "</table>\n",
       "</div>"
      ],
      "text/plain": [
       "                   year  nb_bumped  total_passengers\n",
       "airline                                             \n",
       "DELTA AIR LINES    2017        679          99796155\n",
       "VIRGIN AMERICA     2017        165           6090029\n",
       "JETBLUE AIRWAYS    2017       1475          27255038\n",
       "UNITED AIRLINES    2017       2067          70030765\n",
       "HAWAIIAN AIRLINES  2017         92           8422734"
      ]
     },
     "execution_count": 274,
     "metadata": {},
     "output_type": "execute_result"
    }
   ],
   "source": [
    "airline_bumping.head()"
   ]
  },
  {
   "cell_type": "markdown",
   "metadata": {},
   "source": [
    "For each airline group, select the nb_bumped, and total_passengers columns, and calculate the sum (for both years). Store this as airline_totals."
   ]
  },
  {
   "cell_type": "code",
   "execution_count": 288,
   "metadata": {},
   "outputs": [
    {
     "data": {
      "text/html": [
       "<div>\n",
       "<style scoped>\n",
       "    .dataframe tbody tr th:only-of-type {\n",
       "        vertical-align: middle;\n",
       "    }\n",
       "\n",
       "    .dataframe tbody tr th {\n",
       "        vertical-align: top;\n",
       "    }\n",
       "\n",
       "    .dataframe thead th {\n",
       "        text-align: right;\n",
       "    }\n",
       "</style>\n",
       "<table border=\"1\" class=\"dataframe\">\n",
       "  <thead>\n",
       "    <tr style=\"text-align: right;\">\n",
       "      <th></th>\n",
       "      <th>nb_bumped</th>\n",
       "      <th>total_passengers</th>\n",
       "    </tr>\n",
       "    <tr>\n",
       "      <th>airline</th>\n",
       "      <th></th>\n",
       "      <th></th>\n",
       "    </tr>\n",
       "  </thead>\n",
       "  <tbody>\n",
       "    <tr>\n",
       "      <th>ALASKA AIRLINES</th>\n",
       "      <td>1392</td>\n",
       "      <td>36543121</td>\n",
       "    </tr>\n",
       "    <tr>\n",
       "      <th>AMERICAN AIRLINES</th>\n",
       "      <td>11115</td>\n",
       "      <td>197365225</td>\n",
       "    </tr>\n",
       "    <tr>\n",
       "      <th>DELTA AIR LINES</th>\n",
       "      <td>1591</td>\n",
       "      <td>197033215</td>\n",
       "    </tr>\n",
       "    <tr>\n",
       "      <th>EXPRESSJET AIRLINES</th>\n",
       "      <td>3326</td>\n",
       "      <td>27858678</td>\n",
       "    </tr>\n",
       "    <tr>\n",
       "      <th>FRONTIER AIRLINES</th>\n",
       "      <td>1228</td>\n",
       "      <td>22954995</td>\n",
       "    </tr>\n",
       "    <tr>\n",
       "      <th>HAWAIIAN AIRLINES</th>\n",
       "      <td>122</td>\n",
       "      <td>16577572</td>\n",
       "    </tr>\n",
       "    <tr>\n",
       "      <th>JETBLUE AIRWAYS</th>\n",
       "      <td>3615</td>\n",
       "      <td>53245866</td>\n",
       "    </tr>\n",
       "    <tr>\n",
       "      <th>SKYWEST AIRLINES</th>\n",
       "      <td>3094</td>\n",
       "      <td>47091737</td>\n",
       "    </tr>\n",
       "    <tr>\n",
       "      <th>SOUTHWEST AIRLINES</th>\n",
       "      <td>18585</td>\n",
       "      <td>228142036</td>\n",
       "    </tr>\n",
       "    <tr>\n",
       "      <th>SPIRIT AIRLINES</th>\n",
       "      <td>2920</td>\n",
       "      <td>32304571</td>\n",
       "    </tr>\n",
       "    <tr>\n",
       "      <th>UNITED AIRLINES</th>\n",
       "      <td>4941</td>\n",
       "      <td>134468897</td>\n",
       "    </tr>\n",
       "    <tr>\n",
       "      <th>VIRGIN AMERICA</th>\n",
       "      <td>242</td>\n",
       "      <td>12017967</td>\n",
       "    </tr>\n",
       "  </tbody>\n",
       "</table>\n",
       "</div>"
      ],
      "text/plain": [
       "                     nb_bumped  total_passengers\n",
       "airline                                         \n",
       "ALASKA AIRLINES           1392          36543121\n",
       "AMERICAN AIRLINES        11115         197365225\n",
       "DELTA AIR LINES           1591         197033215\n",
       "EXPRESSJET AIRLINES       3326          27858678\n",
       "FRONTIER AIRLINES         1228          22954995\n",
       "HAWAIIAN AIRLINES          122          16577572\n",
       "JETBLUE AIRWAYS           3615          53245866\n",
       "SKYWEST AIRLINES          3094          47091737\n",
       "SOUTHWEST AIRLINES       18585         228142036\n",
       "SPIRIT AIRLINES           2920          32304571\n",
       "UNITED AIRLINES           4941         134468897\n",
       "VIRGIN AMERICA             242          12017967"
      ]
     },
     "execution_count": 288,
     "metadata": {},
     "output_type": "execute_result"
    }
   ],
   "source": [
    "airline_totals = airline_bumping.groupby(\"airline\")[[\"nb_bumped\", \"total_passengers\"]].sum()\n",
    "airline_totals"
   ]
  },
  {
   "cell_type": "markdown",
   "metadata": {},
   "source": [
    "Create a new column of airline_totals called bumps_per_10k, which is the number of passengers bumped per 10,000 passengers in 2016 and 2017."
   ]
  },
  {
   "cell_type": "code",
   "execution_count": 289,
   "metadata": {},
   "outputs": [
    {
     "data": {
      "text/html": [
       "<div>\n",
       "<style scoped>\n",
       "    .dataframe tbody tr th:only-of-type {\n",
       "        vertical-align: middle;\n",
       "    }\n",
       "\n",
       "    .dataframe tbody tr th {\n",
       "        vertical-align: top;\n",
       "    }\n",
       "\n",
       "    .dataframe thead th {\n",
       "        text-align: right;\n",
       "    }\n",
       "</style>\n",
       "<table border=\"1\" class=\"dataframe\">\n",
       "  <thead>\n",
       "    <tr style=\"text-align: right;\">\n",
       "      <th></th>\n",
       "      <th>nb_bumped</th>\n",
       "      <th>total_passengers</th>\n",
       "      <th>bumps_per_10k</th>\n",
       "    </tr>\n",
       "    <tr>\n",
       "      <th>airline</th>\n",
       "      <th></th>\n",
       "      <th></th>\n",
       "      <th></th>\n",
       "    </tr>\n",
       "  </thead>\n",
       "  <tbody>\n",
       "    <tr>\n",
       "      <th>ALASKA AIRLINES</th>\n",
       "      <td>1392</td>\n",
       "      <td>36543121</td>\n",
       "      <td>0.380920</td>\n",
       "    </tr>\n",
       "    <tr>\n",
       "      <th>AMERICAN AIRLINES</th>\n",
       "      <td>11115</td>\n",
       "      <td>197365225</td>\n",
       "      <td>0.563169</td>\n",
       "    </tr>\n",
       "    <tr>\n",
       "      <th>DELTA AIR LINES</th>\n",
       "      <td>1591</td>\n",
       "      <td>197033215</td>\n",
       "      <td>0.080748</td>\n",
       "    </tr>\n",
       "    <tr>\n",
       "      <th>EXPRESSJET AIRLINES</th>\n",
       "      <td>3326</td>\n",
       "      <td>27858678</td>\n",
       "      <td>1.193883</td>\n",
       "    </tr>\n",
       "    <tr>\n",
       "      <th>FRONTIER AIRLINES</th>\n",
       "      <td>1228</td>\n",
       "      <td>22954995</td>\n",
       "      <td>0.534960</td>\n",
       "    </tr>\n",
       "    <tr>\n",
       "      <th>HAWAIIAN AIRLINES</th>\n",
       "      <td>122</td>\n",
       "      <td>16577572</td>\n",
       "      <td>0.073593</td>\n",
       "    </tr>\n",
       "    <tr>\n",
       "      <th>JETBLUE AIRWAYS</th>\n",
       "      <td>3615</td>\n",
       "      <td>53245866</td>\n",
       "      <td>0.678926</td>\n",
       "    </tr>\n",
       "    <tr>\n",
       "      <th>SKYWEST AIRLINES</th>\n",
       "      <td>3094</td>\n",
       "      <td>47091737</td>\n",
       "      <td>0.657015</td>\n",
       "    </tr>\n",
       "    <tr>\n",
       "      <th>SOUTHWEST AIRLINES</th>\n",
       "      <td>18585</td>\n",
       "      <td>228142036</td>\n",
       "      <td>0.814624</td>\n",
       "    </tr>\n",
       "    <tr>\n",
       "      <th>SPIRIT AIRLINES</th>\n",
       "      <td>2920</td>\n",
       "      <td>32304571</td>\n",
       "      <td>0.903897</td>\n",
       "    </tr>\n",
       "    <tr>\n",
       "      <th>UNITED AIRLINES</th>\n",
       "      <td>4941</td>\n",
       "      <td>134468897</td>\n",
       "      <td>0.367446</td>\n",
       "    </tr>\n",
       "    <tr>\n",
       "      <th>VIRGIN AMERICA</th>\n",
       "      <td>242</td>\n",
       "      <td>12017967</td>\n",
       "      <td>0.201365</td>\n",
       "    </tr>\n",
       "  </tbody>\n",
       "</table>\n",
       "</div>"
      ],
      "text/plain": [
       "                     nb_bumped  total_passengers  bumps_per_10k\n",
       "airline                                                        \n",
       "ALASKA AIRLINES           1392          36543121       0.380920\n",
       "AMERICAN AIRLINES        11115         197365225       0.563169\n",
       "DELTA AIR LINES           1591         197033215       0.080748\n",
       "EXPRESSJET AIRLINES       3326          27858678       1.193883\n",
       "FRONTIER AIRLINES         1228          22954995       0.534960\n",
       "HAWAIIAN AIRLINES          122          16577572       0.073593\n",
       "JETBLUE AIRWAYS           3615          53245866       0.678926\n",
       "SKYWEST AIRLINES          3094          47091737       0.657015\n",
       "SOUTHWEST AIRLINES       18585         228142036       0.814624\n",
       "SPIRIT AIRLINES           2920          32304571       0.903897\n",
       "UNITED AIRLINES           4941         134468897       0.367446\n",
       "VIRGIN AMERICA             242          12017967       0.201365"
      ]
     },
     "execution_count": 289,
     "metadata": {},
     "output_type": "execute_result"
    }
   ],
   "source": [
    "airline_totals[\"bumps_per_10k\"] = (airline_totals[\"nb_bumped\"]/airline_totals[\"total_passengers\"]) * 10_000\n",
    "\n",
    "airline_totals"
   ]
  },
  {
   "cell_type": "markdown",
   "metadata": {},
   "source": [
    "<a id=\"df-csv\"></a>\n",
    "## 4.2 DataFrame to CSV\n",
    "You're almost there! To make things easier to read, you'll need to sort the data and export it to CSV so that your colleagues can read it."
   ]
  },
  {
   "cell_type": "markdown",
   "metadata": {},
   "source": [
    "Sort airline_totals by the values of bumps_per_10k from highest to lowest, storing as airline_totals_sorted."
   ]
  },
  {
   "cell_type": "code",
   "execution_count": 291,
   "metadata": {},
   "outputs": [],
   "source": [
    "airline_totals_sorted = airline_totals.sort_values(by=\"bumps_per_10k\", ascending=False)"
   ]
  },
  {
   "cell_type": "markdown",
   "metadata": {},
   "source": [
    "Print your sorted DataFrame."
   ]
  },
  {
   "cell_type": "code",
   "execution_count": 292,
   "metadata": {},
   "outputs": [
    {
     "data": {
      "text/html": [
       "<div>\n",
       "<style scoped>\n",
       "    .dataframe tbody tr th:only-of-type {\n",
       "        vertical-align: middle;\n",
       "    }\n",
       "\n",
       "    .dataframe tbody tr th {\n",
       "        vertical-align: top;\n",
       "    }\n",
       "\n",
       "    .dataframe thead th {\n",
       "        text-align: right;\n",
       "    }\n",
       "</style>\n",
       "<table border=\"1\" class=\"dataframe\">\n",
       "  <thead>\n",
       "    <tr style=\"text-align: right;\">\n",
       "      <th></th>\n",
       "      <th>nb_bumped</th>\n",
       "      <th>total_passengers</th>\n",
       "      <th>bumps_per_10k</th>\n",
       "    </tr>\n",
       "    <tr>\n",
       "      <th>airline</th>\n",
       "      <th></th>\n",
       "      <th></th>\n",
       "      <th></th>\n",
       "    </tr>\n",
       "  </thead>\n",
       "  <tbody>\n",
       "    <tr>\n",
       "      <th>EXPRESSJET AIRLINES</th>\n",
       "      <td>3326</td>\n",
       "      <td>27858678</td>\n",
       "      <td>1.193883</td>\n",
       "    </tr>\n",
       "    <tr>\n",
       "      <th>SPIRIT AIRLINES</th>\n",
       "      <td>2920</td>\n",
       "      <td>32304571</td>\n",
       "      <td>0.903897</td>\n",
       "    </tr>\n",
       "    <tr>\n",
       "      <th>SOUTHWEST AIRLINES</th>\n",
       "      <td>18585</td>\n",
       "      <td>228142036</td>\n",
       "      <td>0.814624</td>\n",
       "    </tr>\n",
       "    <tr>\n",
       "      <th>JETBLUE AIRWAYS</th>\n",
       "      <td>3615</td>\n",
       "      <td>53245866</td>\n",
       "      <td>0.678926</td>\n",
       "    </tr>\n",
       "    <tr>\n",
       "      <th>SKYWEST AIRLINES</th>\n",
       "      <td>3094</td>\n",
       "      <td>47091737</td>\n",
       "      <td>0.657015</td>\n",
       "    </tr>\n",
       "    <tr>\n",
       "      <th>AMERICAN AIRLINES</th>\n",
       "      <td>11115</td>\n",
       "      <td>197365225</td>\n",
       "      <td>0.563169</td>\n",
       "    </tr>\n",
       "    <tr>\n",
       "      <th>FRONTIER AIRLINES</th>\n",
       "      <td>1228</td>\n",
       "      <td>22954995</td>\n",
       "      <td>0.534960</td>\n",
       "    </tr>\n",
       "    <tr>\n",
       "      <th>ALASKA AIRLINES</th>\n",
       "      <td>1392</td>\n",
       "      <td>36543121</td>\n",
       "      <td>0.380920</td>\n",
       "    </tr>\n",
       "    <tr>\n",
       "      <th>UNITED AIRLINES</th>\n",
       "      <td>4941</td>\n",
       "      <td>134468897</td>\n",
       "      <td>0.367446</td>\n",
       "    </tr>\n",
       "    <tr>\n",
       "      <th>VIRGIN AMERICA</th>\n",
       "      <td>242</td>\n",
       "      <td>12017967</td>\n",
       "      <td>0.201365</td>\n",
       "    </tr>\n",
       "    <tr>\n",
       "      <th>DELTA AIR LINES</th>\n",
       "      <td>1591</td>\n",
       "      <td>197033215</td>\n",
       "      <td>0.080748</td>\n",
       "    </tr>\n",
       "    <tr>\n",
       "      <th>HAWAIIAN AIRLINES</th>\n",
       "      <td>122</td>\n",
       "      <td>16577572</td>\n",
       "      <td>0.073593</td>\n",
       "    </tr>\n",
       "  </tbody>\n",
       "</table>\n",
       "</div>"
      ],
      "text/plain": [
       "                     nb_bumped  total_passengers  bumps_per_10k\n",
       "airline                                                        \n",
       "EXPRESSJET AIRLINES       3326          27858678       1.193883\n",
       "SPIRIT AIRLINES           2920          32304571       0.903897\n",
       "SOUTHWEST AIRLINES       18585         228142036       0.814624\n",
       "JETBLUE AIRWAYS           3615          53245866       0.678926\n",
       "SKYWEST AIRLINES          3094          47091737       0.657015\n",
       "AMERICAN AIRLINES        11115         197365225       0.563169\n",
       "FRONTIER AIRLINES         1228          22954995       0.534960\n",
       "ALASKA AIRLINES           1392          36543121       0.380920\n",
       "UNITED AIRLINES           4941         134468897       0.367446\n",
       "VIRGIN AMERICA             242          12017967       0.201365\n",
       "DELTA AIR LINES           1591         197033215       0.080748\n",
       "HAWAIIAN AIRLINES          122          16577572       0.073593"
      ]
     },
     "execution_count": 292,
     "metadata": {},
     "output_type": "execute_result"
    }
   ],
   "source": [
    "airline_totals_sorted"
   ]
  },
  {
   "cell_type": "markdown",
   "metadata": {},
   "source": [
    "Save the sorted DataFrame as a CSV called \"airline_totals_sorted.csv\"."
   ]
  },
  {
   "cell_type": "code",
   "execution_count": 294,
   "metadata": {},
   "outputs": [],
   "source": [
    "airline_totals_sorted.to_csv(\"./../../data/out/airline_totals_sorted.csv\")"
   ]
  },
  {
   "cell_type": "markdown",
   "metadata": {},
   "source": [
    "# Wrap up\n",
    "<div align=\"middle\">\n",
    "<video width=\"60%\" controls>\n",
    "      <source src=\"./../../res/videos/4.creating-visualizing-dataframes/wrap_up.mp4\" type=\"video/mp4\">\n",
    "</video></div>\n",
    "\n",
    "## More to learn\n",
    "- Joining Data with pandas\n",
    "- Streamlined Data Ingestion with pandas"
   ]
  }
 ],
 "metadata": {
  "kernelspec": {
   "display_name": "Python 3 (ipykernel)",
   "language": "python",
   "name": "python3"
  },
  "language_info": {
   "codemirror_mode": {
    "name": "ipython",
    "version": 3
   },
   "file_extension": ".py",
   "mimetype": "text/x-python",
   "name": "python",
   "nbconvert_exporter": "python",
   "pygments_lexer": "ipython3",
   "version": "3.10.12"
  }
 },
 "nbformat": 4,
 "nbformat_minor": 4
}
