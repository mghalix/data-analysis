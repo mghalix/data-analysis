{
 "cells": [
  {
   "cell_type": "markdown",
   "metadata": {},
   "source": [
    "# __Transforming DataFrames__\n",
    "\n",
    "# Outline\n",
    "\n",
    "- [1 Introducing DataFrames](#intro)\n",
    "- [&nbsp;&nbsp;1.1 Inspecting a DataFrame](#inspect)\n",
    "- [&nbsp;&nbsp;1.2 Parts of DataFrame](#df-parts)\n",
    "- [2 Sorting and subsetting](#srt-sub)\n",
    "- [&nbsp;&nbsp;2.1 Sorting Rows](#sort)\n",
    "- [&nbsp;&nbsp;2.2 Subsetting Columns](#subset-cols)\n",
    "- [&nbsp;&nbsp;2.3 Subsetting Rows (Filtering)](#subset-rows)\n",
    "- [&nbsp;&nbsp;2.4 Subsetting Rows by Categorical Values](#subset-rows-catego)\n",
    "- [3 New Columns](#new-cols)\n",
    "- [&nbsp;&nbsp;3.1 Adding New Columns](#new-cols)\n",
    "- [&nbsp;&nbsp;3.2 Mixing all Together](#mix)\n",
    "\n",
    "\n",
    "Importing pandas & loading data into homelessness"
   ]
  },
  {
   "cell_type": "code",
   "execution_count": null,
   "metadata": {},
   "outputs": [],
   "source": [
    "import pandas as pd\n",
    "homelessness = pd.read_csv(\"./../../data/homelessness.csv\", index_col=0)"
   ]
  },
  {
   "cell_type": "markdown",
   "metadata": {},
   "source": [
    "<a id=\"intro\"></a>\n",
    "# 1 Introducing DataFrames\n",
    "<div align=\"middle\">\n",
    "<video width=60% controls><source src=\"./../../res/videos/1.transforming-dataframes/1.introducing_dataframes.mp4\" type=\"video/mp4\"></video></div>\n",
    "\n",
    "<a id=\"inspect\"></a>\n",
    "## 1.1 Inspecting a DataFrame\n",
    "When you get a new DataFrame to work with, the first thing you need to do is explore it and see what it contains. There are several useful methods and attributes for this.\n",
    "\n",
    "- [.head()](#head) returns the first few rows (the “head” of the DataFrame).\n",
    "- [.info()](#info) shows information on each of the columns, such as the data type and number of missing values.\n",
    "- [.shape](#shape) returns the number of rows and columns of the DataFrame.\n",
    "- [.describe()](#describe) calculates a few summary statistics for each column.\n",
    "homelessness is a DataFrame containing estimates of homelessness in each U.S. state in 2018. The individual column is the number of homeless individuals not part of a family with children. The family_members column is the number of homeless individuals part of a family with children. The state_pop column is the state's total population.\n"
   ]
  },
  {
   "cell_type": "markdown",
   "metadata": {},
   "source": [
    "<a id=\"head\"></a>\n",
    "Print the head of the homelessness data"
   ]
  },
  {
   "cell_type": "code",
   "execution_count": null,
   "metadata": {},
   "outputs": [],
   "source": [
    "homelessness.head()"
   ]
  },
  {
   "cell_type": "markdown",
   "metadata": {},
   "source": [
    "<a id=\"info\"></a>\n",
    "Print information about the column types and missing values in homelessness."
   ]
  },
  {
   "cell_type": "code",
   "execution_count": null,
   "metadata": {},
   "outputs": [],
   "source": [
    "homelessness.info()"
   ]
  },
  {
   "cell_type": "markdown",
   "metadata": {},
   "source": [
    "<a id=\"shape\"></a>\n",
    "Print the number of rows and columns in homelessness."
   ]
  },
  {
   "cell_type": "code",
   "execution_count": null,
   "metadata": {},
   "outputs": [],
   "source": [
    "homelessness.shape"
   ]
  },
  {
   "cell_type": "markdown",
   "metadata": {},
   "source": [
    "<a id=\"describe\"></a>\n",
    "Print some summary statistics that describe the homelessness DataFrame."
   ]
  },
  {
   "cell_type": "code",
   "execution_count": null,
   "metadata": {},
   "outputs": [],
   "source": [
    "homelessness.describe()"
   ]
  },
  {
   "cell_type": "markdown",
   "metadata": {},
   "source": [
    "<a id=\"df-parts\"></a>\n",
    "# __2 Parts of a DataFrame__\n",
    "To better understand DataFrame objects, it's useful to know that they consist of three components, stored as attributes:\n",
    "\n",
    "- [.values](#vals): A two-dimensional NumPy array of values.\n",
    "- [.columns](#cols): An index of columns: the column names.\n",
    "- [.index](#idx): An index for the rows: either row numbers or row names.\n",
    "You can usually think of indexes as a list of strings or numbers, though the pandas Index data type allows for more sophisticated options. (These will be covered later in the course.)\n"
   ]
  },
  {
   "cell_type": "markdown",
   "metadata": {},
   "source": [
    "<a id=\"vals\"></a>\n",
    "Print a 2D NumPy array of the values in homelessness."
   ]
  },
  {
   "cell_type": "code",
   "execution_count": null,
   "metadata": {},
   "outputs": [],
   "source": [
    "homelessness.values"
   ]
  },
  {
   "cell_type": "markdown",
   "metadata": {},
   "source": [
    "<a id=\"cols\"></a>\n",
    "Print the column names of homelessness."
   ]
  },
  {
   "cell_type": "code",
   "execution_count": null,
   "metadata": {},
   "outputs": [],
   "source": [
    "homelessness.columns"
   ]
  },
  {
   "cell_type": "markdown",
   "metadata": {},
   "source": [
    "<a id=\"idx\"></a>\n",
    "Print the index of homelessness."
   ]
  },
  {
   "cell_type": "code",
   "execution_count": null,
   "metadata": {},
   "outputs": [],
   "source": [
    "homelessness.index"
   ]
  },
  {
   "cell_type": "markdown",
   "metadata": {},
   "source": [
    "<a id=\"srt-sub\"></a>\n",
    "# 2 Sorting and subsetting\n",
    "<div align=\"middle\">\n",
    "<video width=\"60%\" controls>\n",
    "      <source src=\"./../../res/videos/1.transforming-dataframes/2.sorting_subsetting.mp4\" type=\"video/mp4\">\n",
    "</video></div>\n",
    "\n",
    "<a id=\"sort\"></a>\n",
    "## 2.1 Sorting Rows\n",
    "Finding interesting bits of data in a DataFrame is often easier if you change the order of the rows. You can sort the rows by passing a column name to [.sort_values().](#row-sort)\n",
    "\n",
    "In cases where rows have the same value (this is common if you sort on a categorical variable), you may wish to break the ties by sorting on another column. You can sort on multiple columns in this way by passing a list of column names.\n",
    "\n",
    "\n",
    "|Sort on...|Syntax|\n",
    "|---|---|\n",
    "|one column|df.sort_values(\"breed\")|\n",
    "|multiple columns|df.sort_values([\"breed\", \"weight_kg\"])|\n",
    "\n",
    "By combining .sort_values() with .head(), you can answer questions in the form, \"What are the top cases where…?\"."
   ]
  },
  {
   "cell_type": "markdown",
   "metadata": {},
   "source": [
    "<a id=\"row-sort\"></a>\n",
    "Sort homelessness by the number of homeless individuals, from smallest to largest, and save this as homelessness_ind.\n",
    "Print the head of the sorted DataFrame."
   ]
  },
  {
   "cell_type": "code",
   "execution_count": null,
   "metadata": {},
   "outputs": [],
   "source": [
    "homelessness_ind = homelessness.sort_values(\"individuals\", ascending=True)\n",
    "homelessness_ind"
   ]
  },
  {
   "cell_type": "markdown",
   "metadata": {},
   "source": [
    "Sort homelessness by the number of homeless family_members in descending order, and save this as homelessness_fam.\n",
    "Print the head of the sorted DataFrame."
   ]
  },
  {
   "cell_type": "code",
   "execution_count": null,
   "metadata": {},
   "outputs": [],
   "source": [
    "homelessness_fam = homelessness.sort_values(\"family_members\", ascending=False)\n",
    "homelessness_fam"
   ]
  },
  {
   "cell_type": "markdown",
   "metadata": {},
   "source": [
    "Sort homelessness first by region (ascending), and then by number of family members (descending). Save this as homelessness_reg_fam.\n",
    "Print the head of the sorted DataFrame."
   ]
  },
  {
   "cell_type": "code",
   "execution_count": null,
   "metadata": {},
   "outputs": [],
   "source": [
    "homelessness_reg_fam = homelessness.sort_values([\"region\", \"family_members\"], ascending=[True, False])\n",
    "\n",
    "homelessness_reg_fam.head()"
   ]
  },
  {
   "cell_type": "markdown",
   "metadata": {},
   "source": [
    "<a id=\"subset-cols\"></a>\n",
    "## 2.2 Subsetting Columns\n",
    "When working with data, you may not need all of the variables in your dataset. Square brackets (`[]`) can be used to select only the columns that matter to you in an order that makes sense to you. To select only \"col_a\" of the DataFrame `df`, use\n",
    "<br>`df[\"col_a\"]`<br>\n",
    "To select \"col_a\" and \"col_b\" of df, use\n",
    "<br>`df[[\"col_a\", \"col_b\"]]`<br>"
   ]
  },
  {
   "cell_type": "markdown",
   "metadata": {},
   "source": [
    "Create a DataFrame called individuals that contains only the individuals column of homelessness.\n",
    "Print the head of the result."
   ]
  },
  {
   "cell_type": "code",
   "execution_count": null,
   "metadata": {},
   "outputs": [],
   "source": [
    "individuals = homelessness[\"individuals\"]\n",
    "individuals.head()"
   ]
  },
  {
   "cell_type": "markdown",
   "metadata": {},
   "source": [
    "Create a DataFrame called state_fam that contains only the state and family_members columns of homelessness, in that order.\n",
    "Print the head of the result."
   ]
  },
  {
   "cell_type": "code",
   "execution_count": null,
   "metadata": {},
   "outputs": [],
   "source": [
    "state_fam = homelessness[[\"state\", \"family_members\"]]\n",
    "state_fam.head()"
   ]
  },
  {
   "cell_type": "markdown",
   "metadata": {},
   "source": [
    "Create a DataFrame called ind_state that contains the individuals and state columns of homelessness, in that order.\n",
    "Print the head of the result."
   ]
  },
  {
   "cell_type": "code",
   "execution_count": null,
   "metadata": {},
   "outputs": [],
   "source": [
    "ind_state = homelessness[[\"individuals\", \"state\"]]\n",
    "ind_state.head()"
   ]
  },
  {
   "cell_type": "markdown",
   "metadata": {},
   "source": [
    "<a id=\"Filtering\"></a>\n",
    "## 2.3 Subsetting Rows\n",
    "A large part of data science is about finding which bits of your dataset are interesting. One of the simplest techniques for this is to find a subset of rows that match some criteria. This is sometimes known as filtering rows or selecting rows.\n",
    "\n",
    "There are many ways to subset a DataFrame, perhaps the most common is to use relational operators to return `True` or `False` for each row, then pass that inside square brackets.\n",
    "\n",
    "`dogs[dogs[\"height_cm\"] > 60]` <br>\n",
    "`dogs[dogs[\"color\"] == \"tan\"]` <br>\n",
    "You can filter for multiple conditions at once by using the \"bitwise and\" operator, `&`.\n",
    "\n",
    "`dogs[(dogs[\"height_cm\"] > 60) & (dogs[\"color\"] == \"tan\")]`"
   ]
  },
  {
   "cell_type": "markdown",
   "metadata": {},
   "source": [
    "\n",
    "Filter homelessness for cases where the number of individuals is greater than ten thousand, assigning to ind_gt_10k. View the printed result."
   ]
  },
  {
   "cell_type": "code",
   "execution_count": null,
   "metadata": {},
   "outputs": [],
   "source": [
    "ind_gt_10k = homelessness[homelessness[\"individuals\"] > 10_000]\n",
    "ind_gt_10k"
   ]
  },
  {
   "cell_type": "markdown",
   "metadata": {},
   "source": [
    "Filter homelessness for cases where the USA Census region is \"Mountain\", assigning to mountain_reg. View the printed result."
   ]
  },
  {
   "cell_type": "code",
   "execution_count": null,
   "metadata": {},
   "outputs": [],
   "source": [
    "mountain_reg = homelessness[homelessness[\"region\"] == \"Mountain\"]\n",
    "mountain_reg"
   ]
  },
  {
   "cell_type": "markdown",
   "metadata": {},
   "source": [
    "Filter homelessness for cases where the number of family_members is less than one thousand and the region is \"Pacific\", assigning to fam_lt_1k_pac. View the printed result."
   ]
  },
  {
   "cell_type": "code",
   "execution_count": null,
   "metadata": {},
   "outputs": [],
   "source": [
    "fam_lt_1k_pac = homelessness[(homelessness[\"family_members\"] < 1_000) & (homelessness[\"region\"] == \"Pacific\")]\n",
    "fam_lt_1k_pac"
   ]
  },
  {
   "cell_type": "markdown",
   "metadata": {},
   "source": [
    "<a id=\"subset-rows-catego\"></a>\n",
    "## 2.4 Subsetting Rows by Categorical Values\n",
    "Subsetting data based on a categorical variable often involves using the \"or\" operator (`|`) to select rows from multiple categories. This can get tedious when you want all states in one of three different regions, for example. Instead, use the `.isin()` method, which will allow you to tackle this problem by writing one condition instead of three separate ones.\n",
    "\n",
    "`colors = [\"brown\", \"black\", \"tan\"]` <br>\n",
    "`condition = dogs[\"color\"].isin(colors)` <br>\n",
    "`dogs[condition]` <br>\n"
   ]
  },
  {
   "cell_type": "markdown",
   "metadata": {},
   "source": [
    "Filter homelessness for cases where the USA census region is \"South Atlantic\" or it is \"Mid-Atlantic\", assigning to south_mid_atlantic. View the printed result."
   ]
  },
  {
   "cell_type": "code",
   "execution_count": null,
   "metadata": {},
   "outputs": [],
   "source": [
    "south_mid_atlantic = homelessness[homelessness[\"region\"].isin([\"South Atlantic\", \"Mid-Atlantic\"])]\n",
    "south_mid_atlantic"
   ]
  },
  {
   "cell_type": "markdown",
   "metadata": {},
   "source": [
    "Filter homelessness for cases where the USA census state is in the list of Mojave states, canu, assigning to mojave_homelessness. View the printed result."
   ]
  },
  {
   "cell_type": "code",
   "execution_count": null,
   "metadata": {},
   "outputs": [],
   "source": [
    "# The Mojave Desert states\n",
    "canu = [\"California\", \"Arizona\", \"Nevada\", \"Utah\"]\n",
    "\n",
    "mojave_homelessness = homelessness[homelessness[\"state\"].isin(canu)]\n",
    "mojave_homelessness"
   ]
  },
  {
   "cell_type": "markdown",
   "metadata": {},
   "source": [
    "<a id=\"new-cols\"></a>\n",
    "# 3 New Columns\n",
    "<div align=\"middle\">\n",
    "<video width=\"60%\" controls>\n",
    "      <source src=\"./../../res/videos/1.transforming-dataframes/3.new_columns.mp4\" type=\"video/mp4\">\n",
    "</video></div>\n",
    "\n",
    "<a id=\"new-cols\"></a>\n",
    "## 3.1 Adding New Columns\n",
    "You aren't stuck with just the data you are given. Instead, you can add new columns to a DataFrame. This has many names, such as transforming, mutating, and feature engineering.\n",
    "\n",
    "You can create new columns from scratch, but it is also common to derive them from other columns, for example, by adding columns together or by changing their units."
   ]
  },
  {
   "cell_type": "markdown",
   "metadata": {},
   "source": [
    "Add a new column to `homelessness`, named `total`, containing the sum of the `individuals` and `family_members` columns.\n",
    "Add another column to `homelessness`, named `p_individuals`, containing the proportion of homeless people in each state who are individuals."
   ]
  },
  {
   "cell_type": "code",
   "execution_count": null,
   "metadata": {},
   "outputs": [],
   "source": [
    "homelessness[\"total\"] = homelessness[\"individuals\"] + homelessness[\"family_members\"]\n",
    "homelessness[\"p_individuals\"] = homelessness[\"individuals\"] / homelessness[\"total\"]\n",
    "\n",
    "homelessness"
   ]
  },
  {
   "cell_type": "markdown",
   "metadata": {},
   "source": [
    "<a id=\"mix\"></a>\n",
    "## Mixing all Together\n",
    "You've seen the four most common types of data manipulation: sorting rows, subsetting columns, subsetting rows, and adding new columns. In a real-life data analysis, you can mix and match these four manipulations to answer a multitude of questions.\n",
    "\n",
    "In this exercise, you'll answer the question, \"Which state has the highest number of homeless individuals per 10,000 people in the state?\" Combine your new `pandas` skills to find out."
   ]
  },
  {
   "cell_type": "markdown",
   "metadata": {},
   "source": [
    "Add a column to `homelessness`, `indiv_per_10k`, containing the number of homeless individuals per ten thousand people in each state."
   ]
  },
  {
   "cell_type": "code",
   "execution_count": null,
   "metadata": {},
   "outputs": [],
   "source": [
    "homelessness[\"indiv_per_10k\"] = homelessness[\"individuals\"] / homelessness[\"state_pop\"] * 10_000"
   ]
  },
  {
   "cell_type": "markdown",
   "metadata": {},
   "source": [
    "Subset rows where `indiv_per_10k` is higher than `20`, assigning to `high_homelessness`."
   ]
  },
  {
   "cell_type": "code",
   "execution_count": null,
   "metadata": {},
   "outputs": [],
   "source": [
    "high_homelessness = homelessness[homelessness[\"indiv_per_10k\"] > 20]"
   ]
  },
  {
   "cell_type": "markdown",
   "metadata": {},
   "source": [
    "Sort `high_homelessness` by descending `indiv_per_10k`, assigning to `high_homelessness_srt`."
   ]
  },
  {
   "cell_type": "code",
   "execution_count": null,
   "metadata": {},
   "outputs": [],
   "source": [
    "high_homelessness_srt = high_homelessness.sort_values(\"indiv_per_10k\", ascending=False)\n",
    "high_homelessness_srt"
   ]
  },
  {
   "cell_type": "markdown",
   "metadata": {},
   "source": [
    "Select only the `state` and `indiv_per_10k` columns of `high_homelessness_srt` and save as `result`. Look at the `result`."
   ]
  },
  {
   "cell_type": "code",
   "execution_count": null,
   "metadata": {},
   "outputs": [],
   "source": [
    "result = high_homelessness_srt[[\"state\", \"indiv_per_10k\"]]\n",
    "\n",
    "result"
   ]
  }
 ],
 "metadata": {
  "kernelspec": {
   "display_name": "Python 3 (ipykernel)",
   "language": "python",
   "name": "python3"
  },
  "language_info": {
   "codemirror_mode": {
    "name": "ipython",
    "version": 3
   },
   "file_extension": ".py",
   "mimetype": "text/x-python",
   "name": "python",
   "nbconvert_exporter": "python",
   "pygments_lexer": "ipython3",
   "version": "3.10.12"
  }
 },
 "nbformat": 4,
 "nbformat_minor": 4
}
